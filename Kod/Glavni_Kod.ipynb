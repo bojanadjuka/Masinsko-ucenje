{
 "cells": [
  {
   "cell_type": "markdown",
   "metadata": {},
   "source": [
    "# Klasifikacija žanra filma na osnovu njegovog postera"
   ]
  },
  {
   "cell_type": "code",
   "execution_count": 1,
   "metadata": {},
   "outputs": [],
   "source": [
    "import pandas as pd\n",
    "import numpy as np\n",
    "import urllib\n",
    "import PIL.Image\n",
    "import matplotlib.pyplot as plt\n",
    "import tensorflow as tf\n",
    "import keras\n",
    "from sklearn import model_selection\n",
    "from random import sample\n",
    "from sklearn.metrics import multilabel_confusion_matrix\n",
    "from sklearn.metrics import classification_report\n",
    "from sklearn.metrics import accuracy_score\n",
    "from sklearn.metrics import hamming_loss\n",
    "from keras.applications import ResNet50\n",
    "from tensorflow.keras.models import Sequential\n",
    "from tensorflow.keras.layers import Input, Dense, Dropout, Flatten, Conv2D, MaxPooling2D\n",
    "from tensorflow.keras.losses import BinaryCrossentropy\n",
    "from tensorflow.keras.optimizers import Adam\n",
    "from tabulate import tabulate"
   ]
  },
  {
   "cell_type": "markdown",
   "metadata": {},
   "source": [
    "## Analiza podataka"
   ]
  },
  {
   "cell_type": "markdown",
   "metadata": {},
   "source": [
    "Učitavamo podatke iz baze \"41K movie posters from IMDB\" koja se nalazi na [linku](https://www.kaggle.com/datasets/dadajonjurakuziev/movieposter?resource=download). "
   ]
  },
  {
   "cell_type": "code",
   "execution_count": 2,
   "metadata": {},
   "outputs": [],
   "source": [
    "data=pd.read_csv('duplicate_free_41K.csv')"
   ]
  },
  {
   "cell_type": "code",
   "execution_count": 3,
   "metadata": {},
   "outputs": [
    {
     "data": {
      "text/plain": [
       "(41979, 19)"
      ]
     },
     "execution_count": 3,
     "metadata": {},
     "output_type": "execute_result"
    }
   ],
   "source": [
    "data.shape "
   ]
  },
  {
   "cell_type": "markdown",
   "metadata": {},
   "source": [
    "Naša baza ima 41979 instanci i 19 kolona čija imena su prikazana ispod."
   ]
  },
  {
   "cell_type": "code",
   "execution_count": 4,
   "metadata": {},
   "outputs": [
    {
     "data": {
      "text/plain": [
       "Index(['id', 'poster', 'title', 'year', 'rating', 'genre', 'action',\n",
       "       'adventure', 'animation', 'comedy', 'crime', 'drama', 'fantasy',\n",
       "       'horror', 'mystery', 'romance', 'sci-fi', 'short', 'thriller'],\n",
       "      dtype='object')"
      ]
     },
     "execution_count": 4,
     "metadata": {},
     "output_type": "execute_result"
    }
   ],
   "source": [
    "data.columns"
   ]
  },
  {
   "cell_type": "code",
   "execution_count": 6,
   "metadata": {},
   "outputs": [
    {
     "data": {
      "text/html": [
       "<div>\n",
       "<style scoped>\n",
       "    .dataframe tbody tr th:only-of-type {\n",
       "        vertical-align: middle;\n",
       "    }\n",
       "\n",
       "    .dataframe tbody tr th {\n",
       "        vertical-align: top;\n",
       "    }\n",
       "\n",
       "    .dataframe thead th {\n",
       "        text-align: right;\n",
       "    }\n",
       "</style>\n",
       "<table border=\"1\" class=\"dataframe\">\n",
       "  <thead>\n",
       "    <tr style=\"text-align: right;\">\n",
       "      <th></th>\n",
       "      <th>id</th>\n",
       "      <th>poster</th>\n",
       "      <th>title</th>\n",
       "      <th>year</th>\n",
       "      <th>rating</th>\n",
       "      <th>genre</th>\n",
       "      <th>action</th>\n",
       "      <th>adventure</th>\n",
       "      <th>animation</th>\n",
       "      <th>comedy</th>\n",
       "      <th>crime</th>\n",
       "      <th>drama</th>\n",
       "      <th>fantasy</th>\n",
       "      <th>horror</th>\n",
       "      <th>mystery</th>\n",
       "      <th>romance</th>\n",
       "      <th>sci-fi</th>\n",
       "      <th>short</th>\n",
       "      <th>thriller</th>\n",
       "    </tr>\n",
       "  </thead>\n",
       "  <tbody>\n",
       "    <tr>\n",
       "      <th>0</th>\n",
       "      <td>0</td>\n",
       "      <td>https://m.media-amazon.com/images/M/MV5BNDM0ND...</td>\n",
       "      <td>Construction</td>\n",
       "      <td>2021</td>\n",
       "      <td>7.4</td>\n",
       "      <td>comedy, romance</td>\n",
       "      <td>0</td>\n",
       "      <td>0</td>\n",
       "      <td>0</td>\n",
       "      <td>1</td>\n",
       "      <td>0</td>\n",
       "      <td>0</td>\n",
       "      <td>0</td>\n",
       "      <td>0</td>\n",
       "      <td>0</td>\n",
       "      <td>1</td>\n",
       "      <td>0</td>\n",
       "      <td>0</td>\n",
       "      <td>0</td>\n",
       "    </tr>\n",
       "    <tr>\n",
       "      <th>1</th>\n",
       "      <td>1</td>\n",
       "      <td>https://m.media-amazon.com/images/M/MV5BNTgyZD...</td>\n",
       "      <td>RED</td>\n",
       "      <td>2020</td>\n",
       "      <td>10.0</td>\n",
       "      <td>horror</td>\n",
       "      <td>0</td>\n",
       "      <td>0</td>\n",
       "      <td>0</td>\n",
       "      <td>0</td>\n",
       "      <td>0</td>\n",
       "      <td>0</td>\n",
       "      <td>0</td>\n",
       "      <td>1</td>\n",
       "      <td>0</td>\n",
       "      <td>0</td>\n",
       "      <td>0</td>\n",
       "      <td>0</td>\n",
       "      <td>0</td>\n",
       "    </tr>\n",
       "    <tr>\n",
       "      <th>2</th>\n",
       "      <td>2</td>\n",
       "      <td>https://m.media-amazon.com/images/M/MV5BNGQzMT...</td>\n",
       "      <td>Huldra and Photographer</td>\n",
       "      <td>2020</td>\n",
       "      <td>10.0</td>\n",
       "      <td>short, fantasy, horror</td>\n",
       "      <td>0</td>\n",
       "      <td>0</td>\n",
       "      <td>0</td>\n",
       "      <td>0</td>\n",
       "      <td>0</td>\n",
       "      <td>0</td>\n",
       "      <td>1</td>\n",
       "      <td>1</td>\n",
       "      <td>0</td>\n",
       "      <td>0</td>\n",
       "      <td>0</td>\n",
       "      <td>1</td>\n",
       "      <td>0</td>\n",
       "    </tr>\n",
       "    <tr>\n",
       "      <th>3</th>\n",
       "      <td>3</td>\n",
       "      <td>https://m.media-amazon.com/images/M/MV5BMWE2Yz...</td>\n",
       "      <td>Anti-dirt</td>\n",
       "      <td>2020</td>\n",
       "      <td>10.0</td>\n",
       "      <td>short, action, comedy</td>\n",
       "      <td>1</td>\n",
       "      <td>0</td>\n",
       "      <td>0</td>\n",
       "      <td>1</td>\n",
       "      <td>0</td>\n",
       "      <td>0</td>\n",
       "      <td>0</td>\n",
       "      <td>0</td>\n",
       "      <td>0</td>\n",
       "      <td>0</td>\n",
       "      <td>0</td>\n",
       "      <td>1</td>\n",
       "      <td>0</td>\n",
       "    </tr>\n",
       "    <tr>\n",
       "      <th>4</th>\n",
       "      <td>4</td>\n",
       "      <td>https://m.media-amazon.com/images/M/MV5BOGI0Nz...</td>\n",
       "      <td>Asalu Em Jarigindhante</td>\n",
       "      <td>2020</td>\n",
       "      <td>10.0</td>\n",
       "      <td>drama</td>\n",
       "      <td>0</td>\n",
       "      <td>0</td>\n",
       "      <td>0</td>\n",
       "      <td>0</td>\n",
       "      <td>0</td>\n",
       "      <td>1</td>\n",
       "      <td>0</td>\n",
       "      <td>0</td>\n",
       "      <td>0</td>\n",
       "      <td>0</td>\n",
       "      <td>0</td>\n",
       "      <td>0</td>\n",
       "      <td>0</td>\n",
       "    </tr>\n",
       "  </tbody>\n",
       "</table>\n",
       "</div>"
      ],
      "text/plain": [
       "   id                                             poster  \\\n",
       "0   0  https://m.media-amazon.com/images/M/MV5BNDM0ND...   \n",
       "1   1  https://m.media-amazon.com/images/M/MV5BNTgyZD...   \n",
       "2   2  https://m.media-amazon.com/images/M/MV5BNGQzMT...   \n",
       "3   3  https://m.media-amazon.com/images/M/MV5BMWE2Yz...   \n",
       "4   4  https://m.media-amazon.com/images/M/MV5BOGI0Nz...   \n",
       "\n",
       "                     title  year  rating                   genre  action  \\\n",
       "0             Construction  2021     7.4         comedy, romance       0   \n",
       "1                      RED  2020    10.0                  horror       0   \n",
       "2  Huldra and Photographer  2020    10.0  short, fantasy, horror       0   \n",
       "3                Anti-dirt  2020    10.0   short, action, comedy       1   \n",
       "4   Asalu Em Jarigindhante  2020    10.0                   drama       0   \n",
       "\n",
       "   adventure  animation  comedy  crime  drama  fantasy  horror  mystery  \\\n",
       "0          0          0       1      0      0        0       0        0   \n",
       "1          0          0       0      0      0        0       1        0   \n",
       "2          0          0       0      0      0        1       1        0   \n",
       "3          0          0       1      0      0        0       0        0   \n",
       "4          0          0       0      0      1        0       0        0   \n",
       "\n",
       "   romance  sci-fi  short  thriller  \n",
       "0        1       0      0         0  \n",
       "1        0       0      0         0  \n",
       "2        0       0      1         0  \n",
       "3        0       0      1         0  \n",
       "4        0       0      0         0  "
      ]
     },
     "execution_count": 6,
     "metadata": {},
     "output_type": "execute_result"
    }
   ],
   "source": [
    "data.head()"
   ]
  },
  {
   "cell_type": "markdown",
   "metadata": {},
   "source": [
    "Baza sadrži linkove do postera filma i 13 žanrova koji su već binarno iskodirani."
   ]
  },
  {
   "cell_type": "code",
   "execution_count": 7,
   "metadata": {},
   "outputs": [
    {
     "data": {
      "text/plain": [
       "0"
      ]
     },
     "execution_count": 7,
     "metadata": {},
     "output_type": "execute_result"
    }
   ],
   "source": [
    "sum(data['poster'].isna()) #proveravamo da li u podacima imamo Na vrednosti"
   ]
  },
  {
   "cell_type": "code",
   "execution_count": 8,
   "metadata": {},
   "outputs": [
    {
     "data": {
      "text/plain": [
       "0"
      ]
     },
     "execution_count": 8,
     "metadata": {},
     "output_type": "execute_result"
    }
   ],
   "source": [
    "sum(data['genre'].isna())"
   ]
  },
  {
   "cell_type": "markdown",
   "metadata": {},
   "source": [
    "U bazi nema Na vrednosti."
   ]
  },
  {
   "cell_type": "markdown",
   "metadata": {},
   "source": [
    "U bazi su dati žanrovi: akcija(action), avantura(adventure), animirani (animation), komedija(comedy), kriminalistički(crime), drama(drama), fantazija(fantasy), horor(horror), misterija(mystery), romantični(romance), naučna fantastika(sci-fi), kratkometražni(short) i triler(thriller)."
   ]
  },
  {
   "cell_type": "markdown",
   "metadata": {},
   "source": [
    "S obzirom na to da kratkometražni film označava film kraćeg trajanja (a ne film specijalnog žanra), ovu kolonu ćemo izbaciti iz naše baze. Prethodno smo proverili da li postoji neki film kom je dodeljem samo ovaj žanr, ali pošto to nije slučaj, možemo obrisati kolonu iz podataka."
   ]
  },
  {
   "cell_type": "code",
   "execution_count": 10,
   "metadata": {},
   "outputs": [
    {
     "data": {
      "text/plain": [
       "Int64Index([], dtype='int64')"
      ]
     },
     "execution_count": 10,
     "metadata": {},
     "output_type": "execute_result"
    }
   ],
   "source": [
    "data[data.short==1][data.action==0][data.adventure==0][data.animation==0][data.comedy==0][data.crime==0][data.drama==0][data.fantasy==0][data.horror==0][data.mystery==0][data.romance==0][data.thriller==0][data['sci-fi']==0].index"
   ]
  },
  {
   "cell_type": "code",
   "execution_count": 11,
   "metadata": {},
   "outputs": [],
   "source": [
    "data=data.drop(columns='short')"
   ]
  },
  {
   "cell_type": "code",
   "execution_count": 13,
   "metadata": {},
   "outputs": [],
   "source": [
    "broj_zanrova=data.iloc[:,6:18].sum(axis=1).values"
   ]
  },
  {
   "cell_type": "code",
   "execution_count": 14,
   "metadata": {},
   "outputs": [],
   "source": [
    "data = data.assign(broj_zanrova=broj_zanrova)\n",
    "#dodajemo kolonu broj žanrova kako bismo videli ima li filmova koji nemaju nijedan žanr i kako bismo bolje ispitali podatke\n",
    "    "
   ]
  },
  {
   "cell_type": "code",
   "execution_count": 15,
   "metadata": {},
   "outputs": [
    {
     "data": {
      "text/html": [
       "<div>\n",
       "<style scoped>\n",
       "    .dataframe tbody tr th:only-of-type {\n",
       "        vertical-align: middle;\n",
       "    }\n",
       "\n",
       "    .dataframe tbody tr th {\n",
       "        vertical-align: top;\n",
       "    }\n",
       "\n",
       "    .dataframe thead th {\n",
       "        text-align: right;\n",
       "    }\n",
       "</style>\n",
       "<table border=\"1\" class=\"dataframe\">\n",
       "  <thead>\n",
       "    <tr style=\"text-align: right;\">\n",
       "      <th></th>\n",
       "      <th>id</th>\n",
       "      <th>poster</th>\n",
       "      <th>title</th>\n",
       "      <th>year</th>\n",
       "      <th>rating</th>\n",
       "      <th>genre</th>\n",
       "      <th>action</th>\n",
       "      <th>adventure</th>\n",
       "      <th>animation</th>\n",
       "      <th>comedy</th>\n",
       "      <th>crime</th>\n",
       "      <th>drama</th>\n",
       "      <th>fantasy</th>\n",
       "      <th>horror</th>\n",
       "      <th>mystery</th>\n",
       "      <th>romance</th>\n",
       "      <th>sci-fi</th>\n",
       "      <th>thriller</th>\n",
       "      <th>broj_zanrova</th>\n",
       "    </tr>\n",
       "  </thead>\n",
       "  <tbody>\n",
       "    <tr>\n",
       "      <th>0</th>\n",
       "      <td>0</td>\n",
       "      <td>https://m.media-amazon.com/images/M/MV5BNDM0ND...</td>\n",
       "      <td>Construction</td>\n",
       "      <td>2021</td>\n",
       "      <td>7.4</td>\n",
       "      <td>comedy, romance</td>\n",
       "      <td>0</td>\n",
       "      <td>0</td>\n",
       "      <td>0</td>\n",
       "      <td>1</td>\n",
       "      <td>0</td>\n",
       "      <td>0</td>\n",
       "      <td>0</td>\n",
       "      <td>0</td>\n",
       "      <td>0</td>\n",
       "      <td>1</td>\n",
       "      <td>0</td>\n",
       "      <td>0</td>\n",
       "      <td>2</td>\n",
       "    </tr>\n",
       "    <tr>\n",
       "      <th>1</th>\n",
       "      <td>1</td>\n",
       "      <td>https://m.media-amazon.com/images/M/MV5BNTgyZD...</td>\n",
       "      <td>RED</td>\n",
       "      <td>2020</td>\n",
       "      <td>10.0</td>\n",
       "      <td>horror</td>\n",
       "      <td>0</td>\n",
       "      <td>0</td>\n",
       "      <td>0</td>\n",
       "      <td>0</td>\n",
       "      <td>0</td>\n",
       "      <td>0</td>\n",
       "      <td>0</td>\n",
       "      <td>1</td>\n",
       "      <td>0</td>\n",
       "      <td>0</td>\n",
       "      <td>0</td>\n",
       "      <td>0</td>\n",
       "      <td>1</td>\n",
       "    </tr>\n",
       "    <tr>\n",
       "      <th>2</th>\n",
       "      <td>2</td>\n",
       "      <td>https://m.media-amazon.com/images/M/MV5BNGQzMT...</td>\n",
       "      <td>Huldra and Photographer</td>\n",
       "      <td>2020</td>\n",
       "      <td>10.0</td>\n",
       "      <td>short, fantasy, horror</td>\n",
       "      <td>0</td>\n",
       "      <td>0</td>\n",
       "      <td>0</td>\n",
       "      <td>0</td>\n",
       "      <td>0</td>\n",
       "      <td>0</td>\n",
       "      <td>1</td>\n",
       "      <td>1</td>\n",
       "      <td>0</td>\n",
       "      <td>0</td>\n",
       "      <td>0</td>\n",
       "      <td>0</td>\n",
       "      <td>2</td>\n",
       "    </tr>\n",
       "    <tr>\n",
       "      <th>3</th>\n",
       "      <td>3</td>\n",
       "      <td>https://m.media-amazon.com/images/M/MV5BMWE2Yz...</td>\n",
       "      <td>Anti-dirt</td>\n",
       "      <td>2020</td>\n",
       "      <td>10.0</td>\n",
       "      <td>short, action, comedy</td>\n",
       "      <td>1</td>\n",
       "      <td>0</td>\n",
       "      <td>0</td>\n",
       "      <td>1</td>\n",
       "      <td>0</td>\n",
       "      <td>0</td>\n",
       "      <td>0</td>\n",
       "      <td>0</td>\n",
       "      <td>0</td>\n",
       "      <td>0</td>\n",
       "      <td>0</td>\n",
       "      <td>0</td>\n",
       "      <td>2</td>\n",
       "    </tr>\n",
       "    <tr>\n",
       "      <th>4</th>\n",
       "      <td>4</td>\n",
       "      <td>https://m.media-amazon.com/images/M/MV5BOGI0Nz...</td>\n",
       "      <td>Asalu Em Jarigindhante</td>\n",
       "      <td>2020</td>\n",
       "      <td>10.0</td>\n",
       "      <td>drama</td>\n",
       "      <td>0</td>\n",
       "      <td>0</td>\n",
       "      <td>0</td>\n",
       "      <td>0</td>\n",
       "      <td>0</td>\n",
       "      <td>1</td>\n",
       "      <td>0</td>\n",
       "      <td>0</td>\n",
       "      <td>0</td>\n",
       "      <td>0</td>\n",
       "      <td>0</td>\n",
       "      <td>0</td>\n",
       "      <td>1</td>\n",
       "    </tr>\n",
       "  </tbody>\n",
       "</table>\n",
       "</div>"
      ],
      "text/plain": [
       "   id                                             poster  \\\n",
       "0   0  https://m.media-amazon.com/images/M/MV5BNDM0ND...   \n",
       "1   1  https://m.media-amazon.com/images/M/MV5BNTgyZD...   \n",
       "2   2  https://m.media-amazon.com/images/M/MV5BNGQzMT...   \n",
       "3   3  https://m.media-amazon.com/images/M/MV5BMWE2Yz...   \n",
       "4   4  https://m.media-amazon.com/images/M/MV5BOGI0Nz...   \n",
       "\n",
       "                     title  year  rating                   genre  action  \\\n",
       "0             Construction  2021     7.4         comedy, romance       0   \n",
       "1                      RED  2020    10.0                  horror       0   \n",
       "2  Huldra and Photographer  2020    10.0  short, fantasy, horror       0   \n",
       "3                Anti-dirt  2020    10.0   short, action, comedy       1   \n",
       "4   Asalu Em Jarigindhante  2020    10.0                   drama       0   \n",
       "\n",
       "   adventure  animation  comedy  crime  drama  fantasy  horror  mystery  \\\n",
       "0          0          0       1      0      0        0       0        0   \n",
       "1          0          0       0      0      0        0       1        0   \n",
       "2          0          0       0      0      0        1       1        0   \n",
       "3          0          0       1      0      0        0       0        0   \n",
       "4          0          0       0      0      1        0       0        0   \n",
       "\n",
       "   romance  sci-fi  thriller  broj_zanrova  \n",
       "0        1       0         0             2  \n",
       "1        0       0         0             1  \n",
       "2        0       0         0             2  \n",
       "3        0       0         0             2  \n",
       "4        0       0         0             1  "
      ]
     },
     "execution_count": 15,
     "metadata": {},
     "output_type": "execute_result"
    }
   ],
   "source": [
    "data.head()"
   ]
  },
  {
   "cell_type": "code",
   "execution_count": 16,
   "metadata": {},
   "outputs": [
    {
     "data": {
      "text/plain": [
       "1     9430\n",
       "2    14672\n",
       "3    17877\n",
       "Name: broj_zanrova, dtype: int64"
      ]
     },
     "execution_count": 16,
     "metadata": {},
     "output_type": "execute_result"
    }
   ],
   "source": [
    "data.broj_zanrova.value_counts().sort_values()"
   ]
  },
  {
   "cell_type": "markdown",
   "metadata": {},
   "source": [
    "Svaki film ima zadat bar jedan žanr i najviše imamo filmova sa tri žanra"
   ]
  },
  {
   "cell_type": "code",
   "execution_count": 17,
   "metadata": {},
   "outputs": [
    {
     "data": {
      "text/plain": [
       "<BarContainer object of 3 artists>"
      ]
     },
     "execution_count": 17,
     "metadata": {},
     "output_type": "execute_result"
    },
    {
     "data": {
      "image/png": "[encoded data removed]",
      "text/plain": [
       "<Figure size 432x288 with 1 Axes>"
      ]
     },
     "metadata": {
      "needs_background": "light"
     },
     "output_type": "display_data"
    }
   ],
   "source": [
    "plt.bar(['1','2','3'],data.broj_zanrova.value_counts().sort_values().values)"
   ]
  },
  {
   "cell_type": "code",
   "execution_count": 18,
   "metadata": {},
   "outputs": [
    {
     "data": {
      "text/html": [
       "<div>\n",
       "<style scoped>\n",
       "    .dataframe tbody tr th:only-of-type {\n",
       "        vertical-align: middle;\n",
       "    }\n",
       "\n",
       "    .dataframe tbody tr th {\n",
       "        vertical-align: top;\n",
       "    }\n",
       "\n",
       "    .dataframe thead th {\n",
       "        text-align: right;\n",
       "    }\n",
       "</style>\n",
       "<table border=\"1\" class=\"dataframe\">\n",
       "  <thead>\n",
       "    <tr style=\"text-align: right;\">\n",
       "      <th></th>\n",
       "      <th>action</th>\n",
       "      <th>adventure</th>\n",
       "      <th>animation</th>\n",
       "      <th>comedy</th>\n",
       "      <th>crime</th>\n",
       "      <th>drama</th>\n",
       "      <th>fantasy</th>\n",
       "      <th>horror</th>\n",
       "      <th>mystery</th>\n",
       "      <th>romance</th>\n",
       "      <th>sci-fi</th>\n",
       "      <th>thriller</th>\n",
       "    </tr>\n",
       "  </thead>\n",
       "  <tbody>\n",
       "    <tr>\n",
       "      <th>0</th>\n",
       "      <td>0</td>\n",
       "      <td>0</td>\n",
       "      <td>0</td>\n",
       "      <td>1</td>\n",
       "      <td>0</td>\n",
       "      <td>0</td>\n",
       "      <td>0</td>\n",
       "      <td>0</td>\n",
       "      <td>0</td>\n",
       "      <td>1</td>\n",
       "      <td>0</td>\n",
       "      <td>0</td>\n",
       "    </tr>\n",
       "    <tr>\n",
       "      <th>1</th>\n",
       "      <td>0</td>\n",
       "      <td>0</td>\n",
       "      <td>0</td>\n",
       "      <td>0</td>\n",
       "      <td>0</td>\n",
       "      <td>0</td>\n",
       "      <td>0</td>\n",
       "      <td>1</td>\n",
       "      <td>0</td>\n",
       "      <td>0</td>\n",
       "      <td>0</td>\n",
       "      <td>0</td>\n",
       "    </tr>\n",
       "    <tr>\n",
       "      <th>2</th>\n",
       "      <td>0</td>\n",
       "      <td>0</td>\n",
       "      <td>0</td>\n",
       "      <td>0</td>\n",
       "      <td>0</td>\n",
       "      <td>0</td>\n",
       "      <td>1</td>\n",
       "      <td>1</td>\n",
       "      <td>0</td>\n",
       "      <td>0</td>\n",
       "      <td>0</td>\n",
       "      <td>0</td>\n",
       "    </tr>\n",
       "    <tr>\n",
       "      <th>3</th>\n",
       "      <td>1</td>\n",
       "      <td>0</td>\n",
       "      <td>0</td>\n",
       "      <td>1</td>\n",
       "      <td>0</td>\n",
       "      <td>0</td>\n",
       "      <td>0</td>\n",
       "      <td>0</td>\n",
       "      <td>0</td>\n",
       "      <td>0</td>\n",
       "      <td>0</td>\n",
       "      <td>0</td>\n",
       "    </tr>\n",
       "    <tr>\n",
       "      <th>4</th>\n",
       "      <td>0</td>\n",
       "      <td>0</td>\n",
       "      <td>0</td>\n",
       "      <td>0</td>\n",
       "      <td>0</td>\n",
       "      <td>1</td>\n",
       "      <td>0</td>\n",
       "      <td>0</td>\n",
       "      <td>0</td>\n",
       "      <td>0</td>\n",
       "      <td>0</td>\n",
       "      <td>0</td>\n",
       "    </tr>\n",
       "    <tr>\n",
       "      <th>...</th>\n",
       "      <td>...</td>\n",
       "      <td>...</td>\n",
       "      <td>...</td>\n",
       "      <td>...</td>\n",
       "      <td>...</td>\n",
       "      <td>...</td>\n",
       "      <td>...</td>\n",
       "      <td>...</td>\n",
       "      <td>...</td>\n",
       "      <td>...</td>\n",
       "      <td>...</td>\n",
       "      <td>...</td>\n",
       "    </tr>\n",
       "    <tr>\n",
       "      <th>41974</th>\n",
       "      <td>1</td>\n",
       "      <td>1</td>\n",
       "      <td>0</td>\n",
       "      <td>0</td>\n",
       "      <td>0</td>\n",
       "      <td>1</td>\n",
       "      <td>0</td>\n",
       "      <td>0</td>\n",
       "      <td>0</td>\n",
       "      <td>0</td>\n",
       "      <td>0</td>\n",
       "      <td>0</td>\n",
       "    </tr>\n",
       "    <tr>\n",
       "      <th>41975</th>\n",
       "      <td>1</td>\n",
       "      <td>1</td>\n",
       "      <td>0</td>\n",
       "      <td>1</td>\n",
       "      <td>0</td>\n",
       "      <td>0</td>\n",
       "      <td>0</td>\n",
       "      <td>0</td>\n",
       "      <td>0</td>\n",
       "      <td>0</td>\n",
       "      <td>0</td>\n",
       "      <td>0</td>\n",
       "    </tr>\n",
       "    <tr>\n",
       "      <th>41976</th>\n",
       "      <td>0</td>\n",
       "      <td>0</td>\n",
       "      <td>0</td>\n",
       "      <td>1</td>\n",
       "      <td>0</td>\n",
       "      <td>1</td>\n",
       "      <td>0</td>\n",
       "      <td>0</td>\n",
       "      <td>0</td>\n",
       "      <td>0</td>\n",
       "      <td>0</td>\n",
       "      <td>0</td>\n",
       "    </tr>\n",
       "    <tr>\n",
       "      <th>41977</th>\n",
       "      <td>0</td>\n",
       "      <td>0</td>\n",
       "      <td>0</td>\n",
       "      <td>0</td>\n",
       "      <td>0</td>\n",
       "      <td>0</td>\n",
       "      <td>0</td>\n",
       "      <td>1</td>\n",
       "      <td>0</td>\n",
       "      <td>0</td>\n",
       "      <td>0</td>\n",
       "      <td>1</td>\n",
       "    </tr>\n",
       "    <tr>\n",
       "      <th>41978</th>\n",
       "      <td>0</td>\n",
       "      <td>0</td>\n",
       "      <td>0</td>\n",
       "      <td>1</td>\n",
       "      <td>0</td>\n",
       "      <td>1</td>\n",
       "      <td>0</td>\n",
       "      <td>0</td>\n",
       "      <td>0</td>\n",
       "      <td>1</td>\n",
       "      <td>0</td>\n",
       "      <td>0</td>\n",
       "    </tr>\n",
       "  </tbody>\n",
       "</table>\n",
       "<p>41979 rows × 12 columns</p>\n",
       "</div>"
      ],
      "text/plain": [
       "       action  adventure  animation  comedy  crime  drama  fantasy  horror  \\\n",
       "0           0          0          0       1      0      0        0       0   \n",
       "1           0          0          0       0      0      0        0       1   \n",
       "2           0          0          0       0      0      0        1       1   \n",
       "3           1          0          0       1      0      0        0       0   \n",
       "4           0          0          0       0      0      1        0       0   \n",
       "...       ...        ...        ...     ...    ...    ...      ...     ...   \n",
       "41974       1          1          0       0      0      1        0       0   \n",
       "41975       1          1          0       1      0      0        0       0   \n",
       "41976       0          0          0       1      0      1        0       0   \n",
       "41977       0          0          0       0      0      0        0       1   \n",
       "41978       0          0          0       1      0      1        0       0   \n",
       "\n",
       "       mystery  romance  sci-fi  thriller  \n",
       "0            0        1       0         0  \n",
       "1            0        0       0         0  \n",
       "2            0        0       0         0  \n",
       "3            0        0       0         0  \n",
       "4            0        0       0         0  \n",
       "...        ...      ...     ...       ...  \n",
       "41974        0        0       0         0  \n",
       "41975        0        0       0         0  \n",
       "41976        0        0       0         0  \n",
       "41977        0        0       0         1  \n",
       "41978        0        1       0         0  \n",
       "\n",
       "[41979 rows x 12 columns]"
      ]
     },
     "execution_count": 18,
     "metadata": {},
     "output_type": "execute_result"
    }
   ],
   "source": [
    "data.iloc[:,6:18] #vidimo da imamo 12 žanrova i želimo da ispitamo kakva je izbalansiranost među njima\n"
   ]
  },
  {
   "cell_type": "code",
   "execution_count": 19,
   "metadata": {},
   "outputs": [
    {
     "data": {
      "text/plain": [
       "action       10537\n",
       "adventure     5693\n",
       "animation     5318\n",
       "comedy       14410\n",
       "crime         6119\n",
       "drama        16318\n",
       "fantasy       3819\n",
       "horror        7291\n",
       "mystery       4760\n",
       "romance       7432\n",
       "sci-fi        3609\n",
       "thriller      7099\n",
       "dtype: int64"
      ]
     },
     "execution_count": 19,
     "metadata": {},
     "output_type": "execute_result"
    }
   ],
   "source": [
    "data.iloc[:,6:18].sum(axis=0)\n",
    "#posmatramo koliko filmova imamo od datih žanrova"
   ]
  },
  {
   "cell_type": "code",
   "execution_count": 20,
   "metadata": {},
   "outputs": [
    {
     "data": {
      "text/plain": [
       "([0, 1, 2, 3, 4, 5, 6, 7, 8, 9, 10, 11],\n",
       " [Text(0, 0, ''),\n",
       "  Text(0, 0, ''),\n",
       "  Text(0, 0, ''),\n",
       "  Text(0, 0, ''),\n",
       "  Text(0, 0, ''),\n",
       "  Text(0, 0, ''),\n",
       "  Text(0, 0, ''),\n",
       "  Text(0, 0, ''),\n",
       "  Text(0, 0, ''),\n",
       "  Text(0, 0, ''),\n",
       "  Text(0, 0, ''),\n",
       "  Text(0, 0, '')])"
      ]
     },
     "execution_count": 20,
     "metadata": {},
     "output_type": "execute_result"
    },
    {
     "data": {
      "image/png": "[encoded data removed]",
      "text/plain": [
       "<Figure size 432x288 with 1 Axes>"
      ]
     },
     "metadata": {
      "needs_background": "light"
     },
     "output_type": "display_data"
    }
   ],
   "source": [
    "plt.bar(data.iloc[:,6:18].sum(axis=0).index,data.iloc[:,6:18].sum(axis=0).values)\n",
    "plt.xticks(rotation='vertical')"
   ]
  },
  {
   "cell_type": "markdown",
   "metadata": {},
   "source": [
    "Na histogramu uočavamo da su drama, komedija i akcija najučestaliji žanrovi i pokušaćemo da bar malo izbalansiramo\n",
    "podatke kako bi se ova razlika smanjila. S obzirom da film može imati više različitih žanrova ne možemo nasumično smanjiti broj filmova sa vodecim žanrovima jer to može ugroziti i one manje zastupljene. "
   ]
  },
  {
   "cell_type": "markdown",
   "metadata": {},
   "source": [
    "Iz tog razloga, pogledaćemo sve kombinacije žanrova koje imamo i redukovati one kojih ima najviše gledajući da se ti žanrovi poklope sa žanrovima koji su iznad istaknuti kao najfrekventniji."
   ]
  },
  {
   "cell_type": "code",
   "execution_count": 21,
   "metadata": {},
   "outputs": [],
   "source": [
    "kombinacije_zanrova=pd.get_dummies(data.genre)"
   ]
  },
  {
   "cell_type": "code",
   "execution_count": 22,
   "metadata": {},
   "outputs": [
    {
     "data": {
      "text/plain": [
       "(41979, 377)"
      ]
     },
     "execution_count": 22,
     "metadata": {},
     "output_type": "execute_result"
    }
   ],
   "source": [
    "kombinacije_zanrova.shape #imamo 377 razlicitih kombinacija "
   ]
  },
  {
   "cell_type": "code",
   "execution_count": 23,
   "metadata": {},
   "outputs": [
    {
     "data": {
      "text/plain": [
       "action                       453\n",
       "action, adventure            106\n",
       "action, adventure, comedy    673\n",
       "action, adventure, crime     235\n",
       "action, adventure, drama     433\n",
       "                            ... \n",
       "short, romance, thriller       1\n",
       "short, sci-fi                207\n",
       "short, sci-fi, thriller       22\n",
       "short, thriller               17\n",
       "thriller                     802\n",
       "Length: 377, dtype: int64"
      ]
     },
     "execution_count": 23,
     "metadata": {},
     "output_type": "execute_result"
    }
   ],
   "source": [
    "kombinacije_zanrova.sum(axis=0)"
   ]
  },
  {
   "cell_type": "code",
   "execution_count": 24,
   "metadata": {},
   "outputs": [
    {
     "data": {
      "image/png": "[encoded data removed]",
      "text/plain": [
       "<Figure size 720x360 with 1 Axes>"
      ]
     },
     "metadata": {
      "needs_background": "light"
     },
     "output_type": "display_data"
    }
   ],
   "source": [
    "plt.figure(figsize=(10, 5))\n",
    "plt.bar(kombinacije_zanrova.sum(axis=0).index,kombinacije_zanrova.sum(axis=0).values)\n",
    "plt.xticks(ticks=[])\n",
    "plt.show()"
   ]
  },
  {
   "cell_type": "markdown",
   "metadata": {},
   "source": [
    "Na grafiku iznad uočavamo da su neke kombinacije žanrova dosta učestalije pa ćemo sortirati podatke kako bismo videli o kojim\n",
    "kombinacijama je reč."
   ]
  },
  {
   "cell_type": "code",
   "execution_count": 25,
   "metadata": {},
   "outputs": [
    {
     "data": {
      "text/plain": [
       "comedy, romance                 1942\n",
       "comedy, drama, romance          1886\n",
       "horror                          1634\n",
       "comedy                          1533\n",
       "drama, romance                  1408\n",
       "drama                           1294\n",
       "horror, thriller                 847\n",
       "comedy, drama                    844\n",
       "thriller                         802\n",
       "animation                        780\n",
       "crime, drama, mystery            779\n",
       "animation, action, adventure     746\n",
       "action, crime, drama             725\n",
       "action, adventure, comedy        673\n",
       "crime, drama, thriller           623\n",
       "dtype: int64"
      ]
     },
     "execution_count": 25,
     "metadata": {},
     "output_type": "execute_result"
    }
   ],
   "source": [
    "kombinacije_zanrova.sum(axis=0).sort_values(ascending=False).head(15)"
   ]
  },
  {
   "cell_type": "markdown",
   "metadata": {},
   "source": [
    "Vidimo da u vodećim kombinacijama ima dosta pojavljivanja komedije i drame.S obzirom da su ova dva žanra najfrekventnija,\n",
    "redukovanje kombinacija koje ih sadrže će doprineti da histogram frekvencije pojedinačnih žanrova bude izbalansiraniji."
   ]
  },
  {
   "cell_type": "code",
   "execution_count": 26,
   "metadata": {},
   "outputs": [],
   "source": [
    "#beležimo sve indekse iz baze čiji filmovi imaju željene kombinacije žanrova"
   ]
  },
  {
   "cell_type": "code",
   "execution_count": 27,
   "metadata": {
    "scrolled": true
   },
   "outputs": [],
   "source": [
    "indeksi_comedy_romance=data[data.comedy==1][data.romance==1][data.broj_zanrova==2].index\n",
    "indeksi_comedy_drama_romance=data[data.comedy==1][data.drama==1][data.romance==1][data.broj_zanrova==3].index\n",
    "indeksi_horror=data[data.horror==1][data.broj_zanrova==1].index\n",
    "indeksi_comedy=data[data.comedy==1][data.broj_zanrova==1].index\n",
    "indeksi_drama_romance=data[data.drama==1][data.romance==1][data.broj_zanrova==2].index\n",
    "indeksi_drama=data[data.drama==1][data.broj_zanrova==1].index\n",
    "indeksi_horror_thriller=data[data.horror==1][data.thriller==1][data.broj_zanrova==2].index\n",
    "indeksi_comedy_drama=data[data.comedy==1][data.drama==1][data.broj_zanrova==2].index\n",
    "indeksi_crime_drama_mistery=data[data.crime==1][data.drama==1][data.mystery==1][data.broj_zanrova==3].index\n",
    "indeksi_action_crime_drama=data[data.crime==1][data.drama==1][data.action==1][data.broj_zanrova==3].index\n",
    "indeksi_action_adventure_comedy=data[data.adventure==1][data.comedy==1][data.action==1][data.broj_zanrova==3].index\n",
    "indeksi_crime_drama_thriller=data[data.crime==1][data.drama==1][data.thriller==1][data.broj_zanrova==3].index"
   ]
  },
  {
   "cell_type": "markdown",
   "metadata": {},
   "source": [
    "Takođe, iz podataka ćemo izbaciti one kombinacije koje se pojavljuju samo jednom ili dva puta kako bismo osigurali da prilikom odabira trening, validacionog i test skupa možemo primeniti stratifikaciju."
   ]
  },
  {
   "cell_type": "code",
   "execution_count": 28,
   "metadata": {},
   "outputs": [
    {
     "data": {
      "text/plain": [
       "crime, mystery, drama            1\n",
       "adventure, crime, horror         1\n",
       "horror, comedy, action           1\n",
       "adventure, comedy, thriller      1\n",
       "animation, romance, sci-fi       1\n",
       "adventure, comedy, mystery       1\n",
       "animation, short, crime          1\n",
       "fantasy, animation               1\n",
       "drama, romance, adventure        1\n",
       "drama, crime, romance            1\n",
       "drama, crime, mystery            1\n",
       "drama, crime                     1\n",
       "drama, adventure                 1\n",
       "drama, action                    1\n",
       "short, mystery, romance          1\n",
       "short, horror, comedy            1\n",
       "crime, thriller, drama           1\n",
       "crime, sci-fi, drama             1\n",
       "crime, romance, sci-fi           1\n",
       "adventure, crime, sci-fi         1\n",
       "short, romance, thriller         1\n",
       "animation, crime, horror         1\n",
       "animation, adventure, mystery    1\n",
       "short, crime, sci-fi             1\n",
       "animation, crime                 1\n",
       "mystery, drama                   1\n",
       "animation, crime, thriller       1\n",
       "animation, fantasy, thriller     1\n",
       "animation, adventure, action     1\n",
       "short, crime, thriller           1\n",
       "animation, horror, thriller      1\n",
       "animation, mystery, romance      1\n",
       "sci-fi, horror, mystery          1\n",
       "sci-fi, action                   1\n",
       "romance, comedy, fantasy         1\n",
       "romance, comedy                  1\n",
       "adventure, horror, romance       1\n",
       "comedy, fantasy, thriller        2\n",
       "adventure, crime, thriller       2\n",
       "animation, adventure, romance    2\n",
       "dtype: int64"
      ]
     },
     "execution_count": 28,
     "metadata": {},
     "output_type": "execute_result"
    }
   ],
   "source": [
    "kombinacije_zanrova.sum(axis=0).sort_values(ascending=True).head(40)"
   ]
  },
  {
   "cell_type": "markdown",
   "metadata": {},
   "source": [
    "U liniji koda ispod izvukli smo indekse svih kombinacija za koje je program rekao da se pojavljuju samo jednom. Međutim, kako programu žanr [komedija,drama] nije isto što i [drama,komedija] neki od nizova ispod su imali više od jednog člana. Nakon provere broja članova u svakom od nizova, pod komentar su stavljeni oni koji imaju više od jednog člana."
   ]
  },
  {
   "cell_type": "code",
   "execution_count": 29,
   "metadata": {},
   "outputs": [],
   "source": [
    "#indeksi_crime_mystery_drama=data[data.crime==1][data.mystery==1][data.drama==1][data.broj_zanrova==3].index\n",
    "indeksi_adventure_crime_horror=data[data.adventure==1][data.crime==1][data.horror==1][data.broj_zanrova==3].index\n",
    "#indeksi_horror_comedy_action=data[data.horror==1][data.comedy==1][data.action==1][data.broj_zanrova==3].index\n",
    "indeksi_adventure_comedy_triller=data[data.comedy==1][data.adventure==1][data.thriller==1][data.broj_zanrova==3].index\n",
    "indeksi_animation_romance_sci=data[data.animation==1][data.romance==1][data['sci-fi']==1][data.broj_zanrova==3].index\n",
    "indeksi_adventure_comedy_mystery=data[data.adventure==1][data.comedy==1][data.mystery==1][data.broj_zanrova==3].index\n",
    "#indeksi_animation_short_crime=data[data.animation==1][data.short==1][data.crime==1][data.broj_zanrova==3].index\n",
    "#indeksi_animation_fantasy=data[data.animation==1][data.fantasy==1][data.broj_zanrova==2].index\n",
    "#indeksi_drama_romance_adventure=data[data.adventure==1][data.drama==1][data.romance==1][data.broj_zanrova==3].index\n",
    "#indeksi_drama_romance_crime=data[data.crime==1][data.drama==1][data.romance==1][data.broj_zanrova==3].index\n",
    "#indeksi_drama_mystery_crime=data[data.crime==1][data.drama==1][data.mystery==1][data.broj_zanrova==3].index\n",
    "#indeksi_drama_crime=data[data.crime==1][data.drama==1][data.broj_zanrova==2].index\n",
    "#indeksi_drama_adventure=data[data.adventure==1][data.drama==1][data.broj_zanrova==2].index\n",
    "#indeksi_drama_action=data[data.action==1][data.drama==1][data.broj_zanrova==2].index\n",
    "#indeksi_short_horror_comedy=data[data.short==1][data.comedy==1][data.horror==1][data.broj_zanrova==3].index\n",
    "#indeksi_short_mystery_romance=data[data.short==1][data.mystery==1][data.romance==1][data.broj_zanrova==3].index\n",
    "#indeksi_crime_thriller_drama=data[data.crime==1][data.thriller==1][data.drama==1][data.broj_zanrova==3].index\n",
    "#indeksi_crime_sci_drama=data[data.crime==1][data['sci-fi']==1][data.drama==1][data.broj_zanrova==3].index\n",
    "indeksi_crime_sci_romance=data[data.crime==1][data['sci-fi']==1][data.romance==1][data.broj_zanrova==3].index\n",
    "indeksi_crime_sci_adventure=data[data.crime==1][data['sci-fi']==1][data.adventure==1][data.broj_zanrova==3].index\n",
    "#indeksi_short_romance_thriller=data[data.short==1][data.thriller==1][data.romance==1][data.broj_zanrova==3].index\n",
    "indeksi_animation_horror_crime=data[data.animation==1][data.horror==1][data.crime==1][data.broj_zanrova==3].index\n",
    "indeksi_animation_adventure_mystery=data[data.animation==1][data.adventure==1][data.mystery==1][data.broj_zanrova==3].index\n",
    "#indeksi_crime_sci_short=data[data.crime==1][data['sci-fi']==1][data.short==1][data.broj_zanrova==3].index\n",
    "#indeksi_animation_crime=data[data.animation==1][data.crime==1][data.broj_zanrova==2].index\n",
    "#indeksi_mystery_drama=data[data.mystery==1][data.drama==1][data.broj_zanrova==2].index\n",
    "indeksi_animation_thriller_crime=data[data.animation==1][data.thriller==1][data.crime==1][data.broj_zanrova==3].index\n",
    "indeksi_animation_thriller_fantasy=data[data.animation==1][data.thriller==1][data.fantasy==1][data.broj_zanrova==3].index\n",
    "#indeksi_animation_adventure_action=data[data.animation==1][data.adventure==1][data.action==1][data.broj_zanrova==3].index\n",
    "#indeksi_short_thriller_crime=data[data.short==1][data.thriller==1][data.crime==1][data.broj_zanrova==3].index\n",
    "indeksi_animation_thriller_horror=data[data.animation==1][data.thriller==1][data.horror==1][data.broj_zanrova==3].index\n",
    "indeksi_animation_mystery_romance=data[data.animation==1][data.mystery==1][data.romance==1][data.broj_zanrova==3].index\n",
    "#indeksi_horror_sci_mystery=data[data.horror==1][data['sci-fi']==1][data.mystery==1][data.broj_zanrova==3].index\n",
    "#indeksi_action_sci=data[data.action==1][data['sci-fi']==1][data.broj_zanrova==2].index\n",
    "#indeksi_romance_comedy_fantasy=data[data.romance==1][data.comedy==1][data.fantasy==1][data.broj_zanrova==3].index\n",
    "#indeksi_romance_comedy=data[data.romance==1][data.comedy==1][data.broj_zanrova==2].index\n",
    "indeksi_adventure_romance_horror=data[data.adventure==1][data.romance==1][data.horror==1][data.broj_zanrova==3].index\n",
    "\n",
    "\n",
    "# filmovi koji imaju dva predstavnika\n",
    "\n",
    "indeksi_comedy_fantasy_thriller=data[data.comedy==1][data.fantasy==1][data.thriller==1][data.broj_zanrova==3].index\n",
    "indeksi_adventure_crime_thriller=data[data.adventure==1][data.crime==1][data.thriller==1][data.broj_zanrova==3].index\n",
    "indeksi_animation_adventure_romance=data[data.adventure==1][data.animation==1][data.romance==1][data.broj_zanrova==3].index\n",
    "indeksi_animation_action_mystery=data[data.animation==1][data.action==1][data.mystery==1][data.broj_zanrova==3].index\n",
    "indeksi_action_romance_sci=data[data.action==1][data.romance==1][data['sci-fi']==1][data.broj_zanrova==3].index\n",
    "indeksi_comedy_crime_sci=data[data.comedy==1][data.crime==1][data['sci-fi']==1][data.broj_zanrova==3].index\n",
    "indeksi_adventure_romance_thriller=data[data.adventure==1][data.thriller==1][data.romance==1][data.broj_zanrova==3].index\n",
    "indeksi_action_horror_romance=data[data.action==1][data.horror==1][data.romance==1][data.broj_zanrova==3].index\n",
    "indeksi_fantasy_romance_thriller=data[data.fantasy==1][data.thriller==1][data.romance==1][data.broj_zanrova==3].index\n",
    "\n",
    "\n"
   ]
  },
  {
   "cell_type": "code",
   "execution_count": 30,
   "metadata": {},
   "outputs": [],
   "source": [
    "indeksi_za_izbacivanje=np.array([]) #pravimo niz indeksa koje treba izbaciti"
   ]
  },
  {
   "cell_type": "code",
   "execution_count": 31,
   "metadata": {},
   "outputs": [],
   "source": [
    "indeksi_za_izbacivanje=np.append(indeksi_za_izbacivanje,indeksi_adventure_crime_horror)\n",
    "indeksi_za_izbacivanje=np.append(indeksi_za_izbacivanje,indeksi_adventure_comedy_triller)\n",
    "indeksi_za_izbacivanje=np.append(indeksi_za_izbacivanje,indeksi_animation_romance_sci)\n",
    "indeksi_za_izbacivanje=np.append(indeksi_za_izbacivanje,indeksi_adventure_comedy_mystery)\n",
    "indeksi_za_izbacivanje=np.append(indeksi_za_izbacivanje,indeksi_crime_sci_romance)\n",
    "indeksi_za_izbacivanje=np.append(indeksi_za_izbacivanje,indeksi_crime_sci_adventure)\n",
    "indeksi_za_izbacivanje=np.append(indeksi_za_izbacivanje,indeksi_animation_horror_crime)\n",
    "indeksi_za_izbacivanje=np.append(indeksi_za_izbacivanje,indeksi_animation_adventure_mystery)\n",
    "indeksi_za_izbacivanje=np.append(indeksi_za_izbacivanje,indeksi_animation_thriller_crime)\n",
    "indeksi_za_izbacivanje=np.append(indeksi_za_izbacivanje,indeksi_animation_thriller_fantasy)\n",
    "indeksi_za_izbacivanje=np.append(indeksi_za_izbacivanje,indeksi_animation_thriller_horror)\n",
    "indeksi_za_izbacivanje=np.append(indeksi_za_izbacivanje,indeksi_animation_mystery_romance)\n",
    "indeksi_za_izbacivanje=np.append(indeksi_za_izbacivanje,indeksi_adventure_romance_horror)\n",
    "\n",
    "indeksi_za_izbacivanje=np.append(indeksi_za_izbacivanje,indeksi_comedy_fantasy_thriller)\n",
    "indeksi_za_izbacivanje=np.append(indeksi_za_izbacivanje,indeksi_adventure_crime_thriller)\n",
    "indeksi_za_izbacivanje=np.append(indeksi_za_izbacivanje,indeksi_animation_adventure_romance)\n",
    "indeksi_za_izbacivanje=np.append(indeksi_za_izbacivanje,indeksi_animation_action_mystery)\n",
    "indeksi_za_izbacivanje=np.append(indeksi_za_izbacivanje,indeksi_action_romance_sci)\n",
    "indeksi_za_izbacivanje=np.append(indeksi_za_izbacivanje,indeksi_comedy_crime_sci)\n",
    "indeksi_za_izbacivanje=np.append(indeksi_za_izbacivanje,indeksi_adventure_romance_thriller)\n",
    "indeksi_za_izbacivanje=np.append(indeksi_za_izbacivanje,indeksi_action_horror_romance)\n",
    "indeksi_za_izbacivanje=np.append(indeksi_za_izbacivanje,indeksi_fantasy_romance_thriller)\n"
   ]
  },
  {
   "cell_type": "code",
   "execution_count": 32,
   "metadata": {},
   "outputs": [
    {
     "data": {
      "text/plain": [
       "array([13386., 40906., 30091.,  3189.,  1812.,  1152., 21250., 41793.,\n",
       "       12435., 24077., 17257., 17491., 34875., 20877., 29703.,  9971.,\n",
       "       18654.,  6123., 11685., 12870., 23446.,  8783., 28904.,  1498.,\n",
       "       33671., 11998., 21342., 18151., 26611.,  9584., 25141.])"
      ]
     },
     "execution_count": 32,
     "metadata": {},
     "output_type": "execute_result"
    }
   ],
   "source": [
    "indeksi_za_izbacivanje"
   ]
  },
  {
   "cell_type": "markdown",
   "metadata": {},
   "source": [
    "Na osnovu svih dobijenih rezultata, na slučajan način biramo podskupove izdvojenih indeksa (vodećih klasa) odredjene veličine i njih smeštamo u niz indeksa koje ćemo kasnije izbaciti iz podataka. Veličina podskupova je izabrana u zavisnosti od broja filmova sa datim žanrom i od toga na koje se žanrove treba fokusirati prilikom redukcije.\n"
   ]
  },
  {
   "cell_type": "code",
   "execution_count": 33,
   "metadata": {},
   "outputs": [],
   "source": [
    "indeksi_za_izbacivanje=np.append(indeksi_za_izbacivanje,sample(list(indeksi_comedy_romance),1200))\n",
    "indeksi_za_izbacivanje=np.append(indeksi_za_izbacivanje,sample(list(indeksi_comedy_drama_romance),1200))\n",
    "indeksi_za_izbacivanje=np.append(indeksi_za_izbacivanje,sample(list(indeksi_horror),600))\n",
    "indeksi_za_izbacivanje=np.append(indeksi_za_izbacivanje,sample(list(indeksi_comedy),800))\n",
    "indeksi_za_izbacivanje=np.append(indeksi_za_izbacivanje,sample(list(indeksi_drama_romance),500))\n",
    "indeksi_za_izbacivanje=np.append(indeksi_za_izbacivanje,sample(list(indeksi_drama),800))\n",
    "indeksi_za_izbacivanje=np.append(indeksi_za_izbacivanje,sample(list(indeksi_horror_thriller),200))\n",
    "indeksi_za_izbacivanje=np.append(indeksi_za_izbacivanje,sample(list(indeksi_comedy_drama),400))\n",
    "indeksi_za_izbacivanje=np.append(indeksi_za_izbacivanje,sample(list(indeksi_crime_drama_mistery),300))\n",
    "indeksi_za_izbacivanje=np.append(indeksi_za_izbacivanje,sample(list(indeksi_action_adventure_comedy),200))\n",
    "indeksi_za_izbacivanje=np.append(indeksi_za_izbacivanje,sample(list(indeksi_action_crime_drama),300))\n",
    "indeksi_za_izbacivanje=np.append(indeksi_za_izbacivanje,sample(list(indeksi_crime_drama_thriller),200))"
   ]
  },
  {
   "cell_type": "code",
   "execution_count": 34,
   "metadata": {},
   "outputs": [
    {
     "data": {
      "text/plain": [
       "(6731,)"
      ]
     },
     "execution_count": 34,
     "metadata": {},
     "output_type": "execute_result"
    }
   ],
   "source": [
    "indeksi_za_izbacivanje.shape"
   ]
  },
  {
   "cell_type": "markdown",
   "metadata": {},
   "source": [
    "Vidimo da imamo 6713 instanci koje ćemo izbaciti iz početnog skupa. Ovaj broj nije konačan jer postoji mogućnost da nisu svi linkovi do postera ispravni, stoga ćemo i njih izbaciti ukoliko dođe do potrebe za tim."
   ]
  },
  {
   "cell_type": "code",
   "execution_count": 35,
   "metadata": {},
   "outputs": [
    {
     "data": {
      "text/plain": [
       "(41979, 19)"
      ]
     },
     "execution_count": 35,
     "metadata": {},
     "output_type": "execute_result"
    }
   ],
   "source": [
    "data.shape"
   ]
  },
  {
   "cell_type": "code",
   "execution_count": 36,
   "metadata": {},
   "outputs": [],
   "source": [
    "data.drop(indeksi_za_izbacivanje,inplace=True)"
   ]
  },
  {
   "cell_type": "code",
   "execution_count": 37,
   "metadata": {},
   "outputs": [
    {
     "data": {
      "text/plain": [
       "(35248, 19)"
      ]
     },
     "execution_count": 37,
     "metadata": {},
     "output_type": "execute_result"
    }
   ],
   "source": [
    "data.shape  #ostajemo na bazi koja ima 35248 instanci"
   ]
  },
  {
   "cell_type": "markdown",
   "metadata": {},
   "source": [
    "Pogledajmo trenutnu raspodelu žanrova kako bismo se uverili da se situacija poboljšala.\n"
   ]
  },
  {
   "cell_type": "code",
   "execution_count": 38,
   "metadata": {},
   "outputs": [
    {
     "data": {
      "text/plain": [
       "action       10031\n",
       "adventure     5481\n",
       "animation     5307\n",
       "comedy       10604\n",
       "crime         5310\n",
       "drama        12618\n",
       "fantasy       3814\n",
       "horror        6485\n",
       "mystery       4455\n",
       "romance       4518\n",
       "sci-fi        3602\n",
       "thriller      6687\n",
       "dtype: int64"
      ]
     },
     "execution_count": 38,
     "metadata": {},
     "output_type": "execute_result"
    }
   ],
   "source": [
    "data.iloc[:,6:18].sum(axis=0)"
   ]
  },
  {
   "cell_type": "code",
   "execution_count": 39,
   "metadata": {},
   "outputs": [
    {
     "data": {
      "text/plain": [
       "([0, 1, 2, 3, 4, 5, 6, 7, 8, 9, 10, 11],\n",
       " [Text(0, 0, ''),\n",
       "  Text(0, 0, ''),\n",
       "  Text(0, 0, ''),\n",
       "  Text(0, 0, ''),\n",
       "  Text(0, 0, ''),\n",
       "  Text(0, 0, ''),\n",
       "  Text(0, 0, ''),\n",
       "  Text(0, 0, ''),\n",
       "  Text(0, 0, ''),\n",
       "  Text(0, 0, ''),\n",
       "  Text(0, 0, ''),\n",
       "  Text(0, 0, '')])"
      ]
     },
     "execution_count": 39,
     "metadata": {},
     "output_type": "execute_result"
    },
    {
     "data": {
      "image/png": "[encoded data removed]",
      "text/plain": [
       "<Figure size 432x288 with 1 Axes>"
      ]
     },
     "metadata": {
      "needs_background": "light"
     },
     "output_type": "display_data"
    }
   ],
   "source": [
    "plt.bar(data.iloc[:,6:18].sum(axis=0).index,data.iloc[:,6:18].sum(axis=0).values)\n",
    "plt.xticks(rotation='vertical')"
   ]
  },
  {
   "cell_type": "markdown",
   "metadata": {},
   "source": [
    "Na stubićima se i dalje uočavaju razlike između žanrova, ali su one manje izražene nego pre. Svakako ne treba težiti da svi stubići budu jednaki jer ovakvi podaci predstavljaju realnu sliku (s obzirom da komedija, drama i akcija jesu najčešći žanrovi).\n",
    "Cilj je bio samo smanjiti razlike kako bi naš model mogao da nauči što bolje svaki od žanrova."
   ]
  },
  {
   "cell_type": "markdown",
   "metadata": {},
   "source": [
    "Na grafiku ispod vidimo da smo malo poboljšali i odnos svih kombinacija žanrova."
   ]
  },
  {
   "cell_type": "code",
   "execution_count": 40,
   "metadata": {},
   "outputs": [],
   "source": [
    "kombinacije_zanrova=pd.get_dummies(data.genre)"
   ]
  },
  {
   "cell_type": "code",
   "execution_count": 41,
   "metadata": {},
   "outputs": [
    {
     "data": {
      "text/plain": [
       "action                       453\n",
       "action, adventure            106\n",
       "action, adventure, comedy    473\n",
       "action, adventure, crime     235\n",
       "action, adventure, drama     433\n",
       "                            ... \n",
       "short, romance, thriller       1\n",
       "short, sci-fi                207\n",
       "short, sci-fi, thriller       22\n",
       "short, thriller               17\n",
       "thriller                     802\n",
       "Length: 354, dtype: int64"
      ]
     },
     "execution_count": 41,
     "metadata": {},
     "output_type": "execute_result"
    }
   ],
   "source": [
    "kombinacije_zanrova.sum(axis=0)"
   ]
  },
  {
   "cell_type": "code",
   "execution_count": 42,
   "metadata": {},
   "outputs": [
    {
     "data": {
      "image/png": "[encoded data removed]",
      "text/plain": [
       "<Figure size 720x360 with 1 Axes>"
      ]
     },
     "metadata": {
      "needs_background": "light"
     },
     "output_type": "display_data"
    }
   ],
   "source": [
    "plt.figure(figsize=(10, 5))\n",
    "plt.bar(kombinacije_zanrova.sum(axis=0).index,kombinacije_zanrova.sum(axis=0).values)\n",
    "plt.xticks(ticks=[])\n",
    "plt.show()"
   ]
  },
  {
   "cell_type": "code",
   "execution_count": 43,
   "metadata": {},
   "outputs": [
    {
     "data": {
      "text/html": [
       "<div>\n",
       "<style scoped>\n",
       "    .dataframe tbody tr th:only-of-type {\n",
       "        vertical-align: middle;\n",
       "    }\n",
       "\n",
       "    .dataframe tbody tr th {\n",
       "        vertical-align: top;\n",
       "    }\n",
       "\n",
       "    .dataframe thead th {\n",
       "        text-align: right;\n",
       "    }\n",
       "</style>\n",
       "<table border=\"1\" class=\"dataframe\">\n",
       "  <thead>\n",
       "    <tr style=\"text-align: right;\">\n",
       "      <th></th>\n",
       "      <th>id</th>\n",
       "      <th>poster</th>\n",
       "      <th>title</th>\n",
       "      <th>year</th>\n",
       "      <th>rating</th>\n",
       "      <th>genre</th>\n",
       "      <th>action</th>\n",
       "      <th>adventure</th>\n",
       "      <th>animation</th>\n",
       "      <th>comedy</th>\n",
       "      <th>crime</th>\n",
       "      <th>drama</th>\n",
       "      <th>fantasy</th>\n",
       "      <th>horror</th>\n",
       "      <th>mystery</th>\n",
       "      <th>romance</th>\n",
       "      <th>sci-fi</th>\n",
       "      <th>thriller</th>\n",
       "      <th>broj_zanrova</th>\n",
       "    </tr>\n",
       "  </thead>\n",
       "  <tbody>\n",
       "    <tr>\n",
       "      <th>1</th>\n",
       "      <td>1</td>\n",
       "      <td>https://m.media-amazon.com/images/M/MV5BNTgyZD...</td>\n",
       "      <td>RED</td>\n",
       "      <td>2020</td>\n",
       "      <td>10.0</td>\n",
       "      <td>horror</td>\n",
       "      <td>0</td>\n",
       "      <td>0</td>\n",
       "      <td>0</td>\n",
       "      <td>0</td>\n",
       "      <td>0</td>\n",
       "      <td>0</td>\n",
       "      <td>0</td>\n",
       "      <td>1</td>\n",
       "      <td>0</td>\n",
       "      <td>0</td>\n",
       "      <td>0</td>\n",
       "      <td>0</td>\n",
       "      <td>1</td>\n",
       "    </tr>\n",
       "    <tr>\n",
       "      <th>2</th>\n",
       "      <td>2</td>\n",
       "      <td>https://m.media-amazon.com/images/M/MV5BNGQzMT...</td>\n",
       "      <td>Huldra and Photographer</td>\n",
       "      <td>2020</td>\n",
       "      <td>10.0</td>\n",
       "      <td>short, fantasy, horror</td>\n",
       "      <td>0</td>\n",
       "      <td>0</td>\n",
       "      <td>0</td>\n",
       "      <td>0</td>\n",
       "      <td>0</td>\n",
       "      <td>0</td>\n",
       "      <td>1</td>\n",
       "      <td>1</td>\n",
       "      <td>0</td>\n",
       "      <td>0</td>\n",
       "      <td>0</td>\n",
       "      <td>0</td>\n",
       "      <td>2</td>\n",
       "    </tr>\n",
       "    <tr>\n",
       "      <th>3</th>\n",
       "      <td>3</td>\n",
       "      <td>https://m.media-amazon.com/images/M/MV5BMWE2Yz...</td>\n",
       "      <td>Anti-dirt</td>\n",
       "      <td>2020</td>\n",
       "      <td>10.0</td>\n",
       "      <td>short, action, comedy</td>\n",
       "      <td>1</td>\n",
       "      <td>0</td>\n",
       "      <td>0</td>\n",
       "      <td>1</td>\n",
       "      <td>0</td>\n",
       "      <td>0</td>\n",
       "      <td>0</td>\n",
       "      <td>0</td>\n",
       "      <td>0</td>\n",
       "      <td>0</td>\n",
       "      <td>0</td>\n",
       "      <td>0</td>\n",
       "      <td>2</td>\n",
       "    </tr>\n",
       "    <tr>\n",
       "      <th>5</th>\n",
       "      <td>5</td>\n",
       "      <td>https://m.media-amazon.com/images/M/MV5BNDU3YT...</td>\n",
       "      <td>The Zone of Twilight</td>\n",
       "      <td>2020</td>\n",
       "      <td>9.9</td>\n",
       "      <td>action, horror, sci-fi</td>\n",
       "      <td>1</td>\n",
       "      <td>0</td>\n",
       "      <td>0</td>\n",
       "      <td>0</td>\n",
       "      <td>0</td>\n",
       "      <td>0</td>\n",
       "      <td>0</td>\n",
       "      <td>1</td>\n",
       "      <td>0</td>\n",
       "      <td>0</td>\n",
       "      <td>1</td>\n",
       "      <td>0</td>\n",
       "      <td>3</td>\n",
       "    </tr>\n",
       "    <tr>\n",
       "      <th>6</th>\n",
       "      <td>6</td>\n",
       "      <td>https://m.media-amazon.com/images/M/MV5BZThmOW...</td>\n",
       "      <td>Hollywood</td>\n",
       "      <td>2020</td>\n",
       "      <td>9.8</td>\n",
       "      <td>comedy, crime</td>\n",
       "      <td>0</td>\n",
       "      <td>0</td>\n",
       "      <td>0</td>\n",
       "      <td>1</td>\n",
       "      <td>1</td>\n",
       "      <td>0</td>\n",
       "      <td>0</td>\n",
       "      <td>0</td>\n",
       "      <td>0</td>\n",
       "      <td>0</td>\n",
       "      <td>0</td>\n",
       "      <td>0</td>\n",
       "      <td>2</td>\n",
       "    </tr>\n",
       "    <tr>\n",
       "      <th>...</th>\n",
       "      <td>...</td>\n",
       "      <td>...</td>\n",
       "      <td>...</td>\n",
       "      <td>...</td>\n",
       "      <td>...</td>\n",
       "      <td>...</td>\n",
       "      <td>...</td>\n",
       "      <td>...</td>\n",
       "      <td>...</td>\n",
       "      <td>...</td>\n",
       "      <td>...</td>\n",
       "      <td>...</td>\n",
       "      <td>...</td>\n",
       "      <td>...</td>\n",
       "      <td>...</td>\n",
       "      <td>...</td>\n",
       "      <td>...</td>\n",
       "      <td>...</td>\n",
       "      <td>...</td>\n",
       "    </tr>\n",
       "    <tr>\n",
       "      <th>41970</th>\n",
       "      <td>42012</td>\n",
       "      <td>https://m.media-amazon.com/images/M/MV5BYzhlND...</td>\n",
       "      <td>Dragon Tiger Gate</td>\n",
       "      <td>2006</td>\n",
       "      <td>6.2</td>\n",
       "      <td>action, drama, fantasy</td>\n",
       "      <td>1</td>\n",
       "      <td>0</td>\n",
       "      <td>0</td>\n",
       "      <td>0</td>\n",
       "      <td>0</td>\n",
       "      <td>1</td>\n",
       "      <td>1</td>\n",
       "      <td>0</td>\n",
       "      <td>0</td>\n",
       "      <td>0</td>\n",
       "      <td>0</td>\n",
       "      <td>0</td>\n",
       "      <td>3</td>\n",
       "    </tr>\n",
       "    <tr>\n",
       "      <th>41971</th>\n",
       "      <td>42013</td>\n",
       "      <td>https://m.media-amazon.com/images/M/MV5BMzY1MT...</td>\n",
       "      <td>All the King's Men</td>\n",
       "      <td>2006</td>\n",
       "      <td>6.2</td>\n",
       "      <td>drama, thriller</td>\n",
       "      <td>0</td>\n",
       "      <td>0</td>\n",
       "      <td>0</td>\n",
       "      <td>0</td>\n",
       "      <td>0</td>\n",
       "      <td>1</td>\n",
       "      <td>0</td>\n",
       "      <td>0</td>\n",
       "      <td>0</td>\n",
       "      <td>0</td>\n",
       "      <td>0</td>\n",
       "      <td>1</td>\n",
       "      <td>2</td>\n",
       "    </tr>\n",
       "    <tr>\n",
       "      <th>41972</th>\n",
       "      <td>42014</td>\n",
       "      <td>https://m.media-amazon.com/images/M/MV5BMDg5NT...</td>\n",
       "      <td>Playing House</td>\n",
       "      <td>2006</td>\n",
       "      <td>6.2</td>\n",
       "      <td>comedy, romance</td>\n",
       "      <td>0</td>\n",
       "      <td>0</td>\n",
       "      <td>0</td>\n",
       "      <td>1</td>\n",
       "      <td>0</td>\n",
       "      <td>0</td>\n",
       "      <td>0</td>\n",
       "      <td>0</td>\n",
       "      <td>0</td>\n",
       "      <td>1</td>\n",
       "      <td>0</td>\n",
       "      <td>0</td>\n",
       "      <td>2</td>\n",
       "    </tr>\n",
       "    <tr>\n",
       "      <th>41974</th>\n",
       "      <td>42016</td>\n",
       "      <td>https://m.media-amazon.com/images/M/MV5BMTgxNz...</td>\n",
       "      <td>Demon Empire</td>\n",
       "      <td>2006</td>\n",
       "      <td>6.2</td>\n",
       "      <td>action, adventure, drama</td>\n",
       "      <td>1</td>\n",
       "      <td>1</td>\n",
       "      <td>0</td>\n",
       "      <td>0</td>\n",
       "      <td>0</td>\n",
       "      <td>1</td>\n",
       "      <td>0</td>\n",
       "      <td>0</td>\n",
       "      <td>0</td>\n",
       "      <td>0</td>\n",
       "      <td>0</td>\n",
       "      <td>0</td>\n",
       "      <td>3</td>\n",
       "    </tr>\n",
       "    <tr>\n",
       "      <th>41977</th>\n",
       "      <td>42019</td>\n",
       "      <td>https://m.media-amazon.com/images/M/MV5BMzJiM2...</td>\n",
       "      <td>To Let</td>\n",
       "      <td>2006</td>\n",
       "      <td>6.2</td>\n",
       "      <td>horror, thriller</td>\n",
       "      <td>0</td>\n",
       "      <td>0</td>\n",
       "      <td>0</td>\n",
       "      <td>0</td>\n",
       "      <td>0</td>\n",
       "      <td>0</td>\n",
       "      <td>0</td>\n",
       "      <td>1</td>\n",
       "      <td>0</td>\n",
       "      <td>0</td>\n",
       "      <td>0</td>\n",
       "      <td>1</td>\n",
       "      <td>2</td>\n",
       "    </tr>\n",
       "  </tbody>\n",
       "</table>\n",
       "<p>35248 rows × 19 columns</p>\n",
       "</div>"
      ],
      "text/plain": [
       "          id                                             poster  \\\n",
       "1          1  https://m.media-amazon.com/images/M/MV5BNTgyZD...   \n",
       "2          2  https://m.media-amazon.com/images/M/MV5BNGQzMT...   \n",
       "3          3  https://m.media-amazon.com/images/M/MV5BMWE2Yz...   \n",
       "5          5  https://m.media-amazon.com/images/M/MV5BNDU3YT...   \n",
       "6          6  https://m.media-amazon.com/images/M/MV5BZThmOW...   \n",
       "...      ...                                                ...   \n",
       "41970  42012  https://m.media-amazon.com/images/M/MV5BYzhlND...   \n",
       "41971  42013  https://m.media-amazon.com/images/M/MV5BMzY1MT...   \n",
       "41972  42014  https://m.media-amazon.com/images/M/MV5BMDg5NT...   \n",
       "41974  42016  https://m.media-amazon.com/images/M/MV5BMTgxNz...   \n",
       "41977  42019  https://m.media-amazon.com/images/M/MV5BMzJiM2...   \n",
       "\n",
       "                         title  year  rating                     genre  \\\n",
       "1                          RED  2020    10.0                    horror   \n",
       "2      Huldra and Photographer  2020    10.0    short, fantasy, horror   \n",
       "3                    Anti-dirt  2020    10.0     short, action, comedy   \n",
       "5         The Zone of Twilight  2020     9.9    action, horror, sci-fi   \n",
       "6                    Hollywood  2020     9.8             comedy, crime   \n",
       "...                        ...   ...     ...                       ...   \n",
       "41970        Dragon Tiger Gate  2006     6.2    action, drama, fantasy   \n",
       "41971       All the King's Men  2006     6.2           drama, thriller   \n",
       "41972            Playing House  2006     6.2           comedy, romance   \n",
       "41974             Demon Empire  2006     6.2  action, adventure, drama   \n",
       "41977                   To Let  2006     6.2          horror, thriller   \n",
       "\n",
       "       action  adventure  animation  comedy  crime  drama  fantasy  horror  \\\n",
       "1           0          0          0       0      0      0        0       1   \n",
       "2           0          0          0       0      0      0        1       1   \n",
       "3           1          0          0       1      0      0        0       0   \n",
       "5           1          0          0       0      0      0        0       1   \n",
       "6           0          0          0       1      1      0        0       0   \n",
       "...       ...        ...        ...     ...    ...    ...      ...     ...   \n",
       "41970       1          0          0       0      0      1        1       0   \n",
       "41971       0          0          0       0      0      1        0       0   \n",
       "41972       0          0          0       1      0      0        0       0   \n",
       "41974       1          1          0       0      0      1        0       0   \n",
       "41977       0          0          0       0      0      0        0       1   \n",
       "\n",
       "       mystery  romance  sci-fi  thriller  broj_zanrova  \n",
       "1            0        0       0         0             1  \n",
       "2            0        0       0         0             2  \n",
       "3            0        0       0         0             2  \n",
       "5            0        0       1         0             3  \n",
       "6            0        0       0         0             2  \n",
       "...        ...      ...     ...       ...           ...  \n",
       "41970        0        0       0         0             3  \n",
       "41971        0        0       0         1             2  \n",
       "41972        0        1       0         0             2  \n",
       "41974        0        0       0         0             3  \n",
       "41977        0        0       0         1             2  \n",
       "\n",
       "[35248 rows x 19 columns]"
      ]
     },
     "execution_count": 43,
     "metadata": {},
     "output_type": "execute_result"
    }
   ],
   "source": [
    "data"
   ]
  },
  {
   "cell_type": "code",
   "execution_count": 44,
   "metadata": {},
   "outputs": [],
   "source": [
    "#popravljamo indekse da idu od 0 do 35248"
   ]
  },
  {
   "cell_type": "code",
   "execution_count": 45,
   "metadata": {},
   "outputs": [],
   "source": [
    "data['indeks'] = range(35248) #dodajemo novu kolonu koja predstavlja brojeve od 0 do 35248"
   ]
  },
  {
   "cell_type": "code",
   "execution_count": 46,
   "metadata": {},
   "outputs": [],
   "source": [
    "data=data.set_index(['indeks']) #postavljamo je da bude u svojstvu indeksa"
   ]
  },
  {
   "cell_type": "code",
   "execution_count": 47,
   "metadata": {},
   "outputs": [
    {
     "data": {
      "text/html": [
       "<div>\n",
       "<style scoped>\n",
       "    .dataframe tbody tr th:only-of-type {\n",
       "        vertical-align: middle;\n",
       "    }\n",
       "\n",
       "    .dataframe tbody tr th {\n",
       "        vertical-align: top;\n",
       "    }\n",
       "\n",
       "    .dataframe thead th {\n",
       "        text-align: right;\n",
       "    }\n",
       "</style>\n",
       "<table border=\"1\" class=\"dataframe\">\n",
       "  <thead>\n",
       "    <tr style=\"text-align: right;\">\n",
       "      <th></th>\n",
       "      <th>id</th>\n",
       "      <th>poster</th>\n",
       "      <th>title</th>\n",
       "      <th>year</th>\n",
       "      <th>rating</th>\n",
       "      <th>genre</th>\n",
       "      <th>action</th>\n",
       "      <th>adventure</th>\n",
       "      <th>animation</th>\n",
       "      <th>comedy</th>\n",
       "      <th>crime</th>\n",
       "      <th>drama</th>\n",
       "      <th>fantasy</th>\n",
       "      <th>horror</th>\n",
       "      <th>mystery</th>\n",
       "      <th>romance</th>\n",
       "      <th>sci-fi</th>\n",
       "      <th>thriller</th>\n",
       "      <th>broj_zanrova</th>\n",
       "    </tr>\n",
       "    <tr>\n",
       "      <th>indeks</th>\n",
       "      <th></th>\n",
       "      <th></th>\n",
       "      <th></th>\n",
       "      <th></th>\n",
       "      <th></th>\n",
       "      <th></th>\n",
       "      <th></th>\n",
       "      <th></th>\n",
       "      <th></th>\n",
       "      <th></th>\n",
       "      <th></th>\n",
       "      <th></th>\n",
       "      <th></th>\n",
       "      <th></th>\n",
       "      <th></th>\n",
       "      <th></th>\n",
       "      <th></th>\n",
       "      <th></th>\n",
       "      <th></th>\n",
       "    </tr>\n",
       "  </thead>\n",
       "  <tbody>\n",
       "    <tr>\n",
       "      <th>0</th>\n",
       "      <td>1</td>\n",
       "      <td>https://m.media-amazon.com/images/M/MV5BNTgyZD...</td>\n",
       "      <td>RED</td>\n",
       "      <td>2020</td>\n",
       "      <td>10.0</td>\n",
       "      <td>horror</td>\n",
       "      <td>0</td>\n",
       "      <td>0</td>\n",
       "      <td>0</td>\n",
       "      <td>0</td>\n",
       "      <td>0</td>\n",
       "      <td>0</td>\n",
       "      <td>0</td>\n",
       "      <td>1</td>\n",
       "      <td>0</td>\n",
       "      <td>0</td>\n",
       "      <td>0</td>\n",
       "      <td>0</td>\n",
       "      <td>1</td>\n",
       "    </tr>\n",
       "    <tr>\n",
       "      <th>1</th>\n",
       "      <td>2</td>\n",
       "      <td>https://m.media-amazon.com/images/M/MV5BNGQzMT...</td>\n",
       "      <td>Huldra and Photographer</td>\n",
       "      <td>2020</td>\n",
       "      <td>10.0</td>\n",
       "      <td>short, fantasy, horror</td>\n",
       "      <td>0</td>\n",
       "      <td>0</td>\n",
       "      <td>0</td>\n",
       "      <td>0</td>\n",
       "      <td>0</td>\n",
       "      <td>0</td>\n",
       "      <td>1</td>\n",
       "      <td>1</td>\n",
       "      <td>0</td>\n",
       "      <td>0</td>\n",
       "      <td>0</td>\n",
       "      <td>0</td>\n",
       "      <td>2</td>\n",
       "    </tr>\n",
       "    <tr>\n",
       "      <th>2</th>\n",
       "      <td>3</td>\n",
       "      <td>https://m.media-amazon.com/images/M/MV5BMWE2Yz...</td>\n",
       "      <td>Anti-dirt</td>\n",
       "      <td>2020</td>\n",
       "      <td>10.0</td>\n",
       "      <td>short, action, comedy</td>\n",
       "      <td>1</td>\n",
       "      <td>0</td>\n",
       "      <td>0</td>\n",
       "      <td>1</td>\n",
       "      <td>0</td>\n",
       "      <td>0</td>\n",
       "      <td>0</td>\n",
       "      <td>0</td>\n",
       "      <td>0</td>\n",
       "      <td>0</td>\n",
       "      <td>0</td>\n",
       "      <td>0</td>\n",
       "      <td>2</td>\n",
       "    </tr>\n",
       "    <tr>\n",
       "      <th>3</th>\n",
       "      <td>5</td>\n",
       "      <td>https://m.media-amazon.com/images/M/MV5BNDU3YT...</td>\n",
       "      <td>The Zone of Twilight</td>\n",
       "      <td>2020</td>\n",
       "      <td>9.9</td>\n",
       "      <td>action, horror, sci-fi</td>\n",
       "      <td>1</td>\n",
       "      <td>0</td>\n",
       "      <td>0</td>\n",
       "      <td>0</td>\n",
       "      <td>0</td>\n",
       "      <td>0</td>\n",
       "      <td>0</td>\n",
       "      <td>1</td>\n",
       "      <td>0</td>\n",
       "      <td>0</td>\n",
       "      <td>1</td>\n",
       "      <td>0</td>\n",
       "      <td>3</td>\n",
       "    </tr>\n",
       "    <tr>\n",
       "      <th>4</th>\n",
       "      <td>6</td>\n",
       "      <td>https://m.media-amazon.com/images/M/MV5BZThmOW...</td>\n",
       "      <td>Hollywood</td>\n",
       "      <td>2020</td>\n",
       "      <td>9.8</td>\n",
       "      <td>comedy, crime</td>\n",
       "      <td>0</td>\n",
       "      <td>0</td>\n",
       "      <td>0</td>\n",
       "      <td>1</td>\n",
       "      <td>1</td>\n",
       "      <td>0</td>\n",
       "      <td>0</td>\n",
       "      <td>0</td>\n",
       "      <td>0</td>\n",
       "      <td>0</td>\n",
       "      <td>0</td>\n",
       "      <td>0</td>\n",
       "      <td>2</td>\n",
       "    </tr>\n",
       "    <tr>\n",
       "      <th>...</th>\n",
       "      <td>...</td>\n",
       "      <td>...</td>\n",
       "      <td>...</td>\n",
       "      <td>...</td>\n",
       "      <td>...</td>\n",
       "      <td>...</td>\n",
       "      <td>...</td>\n",
       "      <td>...</td>\n",
       "      <td>...</td>\n",
       "      <td>...</td>\n",
       "      <td>...</td>\n",
       "      <td>...</td>\n",
       "      <td>...</td>\n",
       "      <td>...</td>\n",
       "      <td>...</td>\n",
       "      <td>...</td>\n",
       "      <td>...</td>\n",
       "      <td>...</td>\n",
       "      <td>...</td>\n",
       "    </tr>\n",
       "    <tr>\n",
       "      <th>35243</th>\n",
       "      <td>42012</td>\n",
       "      <td>https://m.media-amazon.com/images/M/MV5BYzhlND...</td>\n",
       "      <td>Dragon Tiger Gate</td>\n",
       "      <td>2006</td>\n",
       "      <td>6.2</td>\n",
       "      <td>action, drama, fantasy</td>\n",
       "      <td>1</td>\n",
       "      <td>0</td>\n",
       "      <td>0</td>\n",
       "      <td>0</td>\n",
       "      <td>0</td>\n",
       "      <td>1</td>\n",
       "      <td>1</td>\n",
       "      <td>0</td>\n",
       "      <td>0</td>\n",
       "      <td>0</td>\n",
       "      <td>0</td>\n",
       "      <td>0</td>\n",
       "      <td>3</td>\n",
       "    </tr>\n",
       "    <tr>\n",
       "      <th>35244</th>\n",
       "      <td>42013</td>\n",
       "      <td>https://m.media-amazon.com/images/M/MV5BMzY1MT...</td>\n",
       "      <td>All the King's Men</td>\n",
       "      <td>2006</td>\n",
       "      <td>6.2</td>\n",
       "      <td>drama, thriller</td>\n",
       "      <td>0</td>\n",
       "      <td>0</td>\n",
       "      <td>0</td>\n",
       "      <td>0</td>\n",
       "      <td>0</td>\n",
       "      <td>1</td>\n",
       "      <td>0</td>\n",
       "      <td>0</td>\n",
       "      <td>0</td>\n",
       "      <td>0</td>\n",
       "      <td>0</td>\n",
       "      <td>1</td>\n",
       "      <td>2</td>\n",
       "    </tr>\n",
       "    <tr>\n",
       "      <th>35245</th>\n",
       "      <td>42014</td>\n",
       "      <td>https://m.media-amazon.com/images/M/MV5BMDg5NT...</td>\n",
       "      <td>Playing House</td>\n",
       "      <td>2006</td>\n",
       "      <td>6.2</td>\n",
       "      <td>comedy, romance</td>\n",
       "      <td>0</td>\n",
       "      <td>0</td>\n",
       "      <td>0</td>\n",
       "      <td>1</td>\n",
       "      <td>0</td>\n",
       "      <td>0</td>\n",
       "      <td>0</td>\n",
       "      <td>0</td>\n",
       "      <td>0</td>\n",
       "      <td>1</td>\n",
       "      <td>0</td>\n",
       "      <td>0</td>\n",
       "      <td>2</td>\n",
       "    </tr>\n",
       "    <tr>\n",
       "      <th>35246</th>\n",
       "      <td>42016</td>\n",
       "      <td>https://m.media-amazon.com/images/M/MV5BMTgxNz...</td>\n",
       "      <td>Demon Empire</td>\n",
       "      <td>2006</td>\n",
       "      <td>6.2</td>\n",
       "      <td>action, adventure, drama</td>\n",
       "      <td>1</td>\n",
       "      <td>1</td>\n",
       "      <td>0</td>\n",
       "      <td>0</td>\n",
       "      <td>0</td>\n",
       "      <td>1</td>\n",
       "      <td>0</td>\n",
       "      <td>0</td>\n",
       "      <td>0</td>\n",
       "      <td>0</td>\n",
       "      <td>0</td>\n",
       "      <td>0</td>\n",
       "      <td>3</td>\n",
       "    </tr>\n",
       "    <tr>\n",
       "      <th>35247</th>\n",
       "      <td>42019</td>\n",
       "      <td>https://m.media-amazon.com/images/M/MV5BMzJiM2...</td>\n",
       "      <td>To Let</td>\n",
       "      <td>2006</td>\n",
       "      <td>6.2</td>\n",
       "      <td>horror, thriller</td>\n",
       "      <td>0</td>\n",
       "      <td>0</td>\n",
       "      <td>0</td>\n",
       "      <td>0</td>\n",
       "      <td>0</td>\n",
       "      <td>0</td>\n",
       "      <td>0</td>\n",
       "      <td>1</td>\n",
       "      <td>0</td>\n",
       "      <td>0</td>\n",
       "      <td>0</td>\n",
       "      <td>1</td>\n",
       "      <td>2</td>\n",
       "    </tr>\n",
       "  </tbody>\n",
       "</table>\n",
       "<p>35248 rows × 19 columns</p>\n",
       "</div>"
      ],
      "text/plain": [
       "           id                                             poster  \\\n",
       "indeks                                                             \n",
       "0           1  https://m.media-amazon.com/images/M/MV5BNTgyZD...   \n",
       "1           2  https://m.media-amazon.com/images/M/MV5BNGQzMT...   \n",
       "2           3  https://m.media-amazon.com/images/M/MV5BMWE2Yz...   \n",
       "3           5  https://m.media-amazon.com/images/M/MV5BNDU3YT...   \n",
       "4           6  https://m.media-amazon.com/images/M/MV5BZThmOW...   \n",
       "...       ...                                                ...   \n",
       "35243   42012  https://m.media-amazon.com/images/M/MV5BYzhlND...   \n",
       "35244   42013  https://m.media-amazon.com/images/M/MV5BMzY1MT...   \n",
       "35245   42014  https://m.media-amazon.com/images/M/MV5BMDg5NT...   \n",
       "35246   42016  https://m.media-amazon.com/images/M/MV5BMTgxNz...   \n",
       "35247   42019  https://m.media-amazon.com/images/M/MV5BMzJiM2...   \n",
       "\n",
       "                          title  year  rating                     genre  \\\n",
       "indeks                                                                    \n",
       "0                           RED  2020    10.0                    horror   \n",
       "1       Huldra and Photographer  2020    10.0    short, fantasy, horror   \n",
       "2                     Anti-dirt  2020    10.0     short, action, comedy   \n",
       "3          The Zone of Twilight  2020     9.9    action, horror, sci-fi   \n",
       "4                     Hollywood  2020     9.8             comedy, crime   \n",
       "...                         ...   ...     ...                       ...   \n",
       "35243         Dragon Tiger Gate  2006     6.2    action, drama, fantasy   \n",
       "35244        All the King's Men  2006     6.2           drama, thriller   \n",
       "35245             Playing House  2006     6.2           comedy, romance   \n",
       "35246              Demon Empire  2006     6.2  action, adventure, drama   \n",
       "35247                    To Let  2006     6.2          horror, thriller   \n",
       "\n",
       "        action  adventure  animation  comedy  crime  drama  fantasy  horror  \\\n",
       "indeks                                                                        \n",
       "0            0          0          0       0      0      0        0       1   \n",
       "1            0          0          0       0      0      0        1       1   \n",
       "2            1          0          0       1      0      0        0       0   \n",
       "3            1          0          0       0      0      0        0       1   \n",
       "4            0          0          0       1      1      0        0       0   \n",
       "...        ...        ...        ...     ...    ...    ...      ...     ...   \n",
       "35243        1          0          0       0      0      1        1       0   \n",
       "35244        0          0          0       0      0      1        0       0   \n",
       "35245        0          0          0       1      0      0        0       0   \n",
       "35246        1          1          0       0      0      1        0       0   \n",
       "35247        0          0          0       0      0      0        0       1   \n",
       "\n",
       "        mystery  romance  sci-fi  thriller  broj_zanrova  \n",
       "indeks                                                    \n",
       "0             0        0       0         0             1  \n",
       "1             0        0       0         0             2  \n",
       "2             0        0       0         0             2  \n",
       "3             0        0       1         0             3  \n",
       "4             0        0       0         0             2  \n",
       "...         ...      ...     ...       ...           ...  \n",
       "35243         0        0       0         0             3  \n",
       "35244         0        0       0         1             2  \n",
       "35245         0        1       0         0             2  \n",
       "35246         0        0       0         0             3  \n",
       "35247         0        0       0         1             2  \n",
       "\n",
       "[35248 rows x 19 columns]"
      ]
     },
     "execution_count": 47,
     "metadata": {},
     "output_type": "execute_result"
    }
   ],
   "source": [
    "data"
   ]
  },
  {
   "cell_type": "markdown",
   "metadata": {},
   "source": [
    "### Učitavanje postera"
   ]
  },
  {
   "cell_type": "markdown",
   "metadata": {},
   "source": [
    "Svi posteri su zadati preko linkova koji se nalaze u bazi. Slike učitavamo u listu i obraćamo pažnju na one linkove koji vraćaju neku grešku. Te redove ćemo izbaciti iz naših podataka."
   ]
  },
  {
   "cell_type": "code",
   "execution_count": 48,
   "metadata": {},
   "outputs": [],
   "source": [
    "putanja_do_slika=data.poster"
   ]
  },
  {
   "cell_type": "code",
   "execution_count": 49,
   "metadata": {},
   "outputs": [
    {
     "data": {
      "text/plain": [
       "(35248,)"
      ]
     },
     "execution_count": 49,
     "metadata": {},
     "output_type": "execute_result"
    }
   ],
   "source": [
    "putanja_do_slika.shape"
   ]
  },
  {
   "cell_type": "code",
   "execution_count": 50,
   "metadata": {},
   "outputs": [],
   "source": [
    "slike=[]\n",
    "indeksi_neispravnih_linkova=[]\n",
    "iterator=0"
   ]
  },
  {
   "cell_type": "code",
   "execution_count": 51,
   "metadata": {},
   "outputs": [],
   "source": [
    "for i in putanja_do_slika:\n",
    "    try:\n",
    "        urllib.request.urlretrieve(i, \"slika.png\")\n",
    "        img=PIL.Image.open(\"slika.png\").convert(\"RGBA\")\n",
    "        slike.append(img)\n",
    "        iterator=iterator+1\n",
    "    except:\n",
    "        indeksi_neispravnih_linkova.append(iterator)\n",
    "        iterator=iterator+1"
   ]
  },
  {
   "cell_type": "code",
   "execution_count": 52,
   "metadata": {},
   "outputs": [
    {
     "data": {
      "text/plain": [
       "34957"
      ]
     },
     "execution_count": 52,
     "metadata": {},
     "output_type": "execute_result"
    }
   ],
   "source": [
    "len(slike) #ukupno imamo 34957 postera"
   ]
  },
  {
   "cell_type": "code",
   "execution_count": 53,
   "metadata": {},
   "outputs": [
    {
     "data": {
      "text/plain": [
       "291"
      ]
     },
     "execution_count": 53,
     "metadata": {},
     "output_type": "execute_result"
    }
   ],
   "source": [
    "len(indeksi_neispravnih_linkova)  #broj redova koje je potrebno da izbacimo iz podataka"
   ]
  },
  {
   "cell_type": "code",
   "execution_count": 54,
   "metadata": {},
   "outputs": [],
   "source": [
    "data.drop(index=indeksi_neispravnih_linkova, inplace=True) #izbacujemo neispravne redove"
   ]
  },
  {
   "cell_type": "code",
   "execution_count": 55,
   "metadata": {},
   "outputs": [
    {
     "data": {
      "text/plain": [
       "(34957, 19)"
      ]
     },
     "execution_count": 55,
     "metadata": {},
     "output_type": "execute_result"
    }
   ],
   "source": [
    "data.shape "
   ]
  },
  {
   "cell_type": "markdown",
   "metadata": {},
   "source": [
    "Završili smo sa čišćenjem podataka i vidimo da sada naša baza ima 34957 instanci."
   ]
  },
  {
   "cell_type": "markdown",
   "metadata": {},
   "source": [
    "## Priprema podataka za model"
   ]
  },
  {
   "cell_type": "markdown",
   "metadata": {},
   "source": [
    "Naša zavisna promeljiva predstavlja binarni vektor dužine 12. Svaka pozicija odgovara određenom žanru filma. Film je onih žanrova koji imaju jedinicu na svojim pozicijama."
   ]
  },
  {
   "cell_type": "markdown",
   "metadata": {},
   "source": [
    "Uz pomoć binarno kodiranih kolona koje se već nalaze u tabeli, definišemo našu zavisnu promenljivu y."
   ]
  },
  {
   "cell_type": "code",
   "execution_count": 56,
   "metadata": {},
   "outputs": [
    {
     "data": {
      "text/plain": [
       "array([[0, 0, 0, ..., 0, 0, 0],\n",
       "       [0, 0, 0, ..., 0, 0, 0],\n",
       "       [1, 0, 0, ..., 0, 0, 0],\n",
       "       ...,\n",
       "       [0, 0, 0, ..., 1, 0, 0],\n",
       "       [1, 1, 0, ..., 0, 0, 0],\n",
       "       [0, 0, 0, ..., 0, 0, 1]], dtype=int64)"
      ]
     },
     "execution_count": 56,
     "metadata": {},
     "output_type": "execute_result"
    }
   ],
   "source": [
    "data.iloc[:,6:18].values"
   ]
  },
  {
   "cell_type": "code",
   "execution_count": 57,
   "metadata": {},
   "outputs": [],
   "source": [
    "y=[]"
   ]
  },
  {
   "cell_type": "code",
   "execution_count": 58,
   "metadata": {},
   "outputs": [],
   "source": [
    "for i in data.iloc[:,6:18].values:\n",
    "    y.append(i)"
   ]
  },
  {
   "cell_type": "code",
   "execution_count": 60,
   "metadata": {},
   "outputs": [],
   "source": [
    "imena_klasa=list(data.columns[6:18])"
   ]
  },
  {
   "cell_type": "code",
   "execution_count": 61,
   "metadata": {},
   "outputs": [
    {
     "data": {
      "text/plain": [
       "['action',\n",
       " 'adventure',\n",
       " 'animation',\n",
       " 'comedy',\n",
       " 'crime',\n",
       " 'drama',\n",
       " 'fantasy',\n",
       " 'horror',\n",
       " 'mystery',\n",
       " 'romance',\n",
       " 'sci-fi',\n",
       " 'thriller']"
      ]
     },
     "execution_count": 61,
     "metadata": {},
     "output_type": "execute_result"
    }
   ],
   "source": [
    "imena_klasa"
   ]
  },
  {
   "cell_type": "code",
   "execution_count": 62,
   "metadata": {},
   "outputs": [],
   "source": [
    "#funkcija koja vraća žanr filma na osnovu binarno kodiranog vektora\n",
    "#ova funkcija nam služi za ilustraciju naših podataka za model\n",
    "def zanr(niz):\n",
    "    zanr=[]\n",
    "    for i in range(len(niz)):\n",
    "        if(niz[i]==1):\n",
    "            zanr.append(imena_klasa[i])\n",
    "        else:\n",
    "            None\n",
    "    return zanr        \n",
    "            "
   ]
  },
  {
   "cell_type": "markdown",
   "metadata": {},
   "source": [
    "U narednim linijama koda prikazano je kako izgledaju podaci za naš model, dve nasumične slike iz učitane liste slika, kao i vektor zavisne promenljive koji ide uz njih."
   ]
  },
  {
   "cell_type": "code",
   "execution_count": 63,
   "metadata": {},
   "outputs": [
    {
     "data": {
      "image/png": "[encoded data removed]",
      "text/plain": [
       "<PIL.Image.Image image mode=RGBA size=256x379 at 0x177E2AF18E0>"
      ]
     },
     "execution_count": 63,
     "metadata": {},
     "output_type": "execute_result"
    }
   ],
   "source": [
    "slike[0]"
   ]
  },
  {
   "cell_type": "code",
   "execution_count": 64,
   "metadata": {},
   "outputs": [
    {
     "data": {
      "text/plain": [
       "array([0, 0, 0, 0, 0, 0, 0, 1, 0, 0, 0, 0], dtype=int64)"
      ]
     },
     "execution_count": 64,
     "metadata": {},
     "output_type": "execute_result"
    }
   ],
   "source": [
    "y[0]"
   ]
  },
  {
   "cell_type": "code",
   "execution_count": 65,
   "metadata": {},
   "outputs": [
    {
     "data": {
      "text/plain": [
       "['horror']"
      ]
     },
     "execution_count": 65,
     "metadata": {},
     "output_type": "execute_result"
    }
   ],
   "source": [
    "zanr(y[0]) #pozivamo funkciju koja ce nam procitati zanr"
   ]
  },
  {
   "cell_type": "code",
   "execution_count": 66,
   "metadata": {},
   "outputs": [
    {
     "data": {
      "image/png": "[encoded data removed]",
      "text/plain": [
       "<PIL.Image.Image image mode=RGBA size=256x144 at 0x177E052EDC0>"
      ]
     },
     "execution_count": 66,
     "metadata": {},
     "output_type": "execute_result"
    }
   ],
   "source": [
    "slike[465]"
   ]
  },
  {
   "cell_type": "code",
   "execution_count": 67,
   "metadata": {},
   "outputs": [
    {
     "data": {
      "text/plain": [
       "array([0, 0, 1, 0, 0, 0, 0, 0, 0, 0, 0, 0], dtype=int64)"
      ]
     },
     "execution_count": 67,
     "metadata": {},
     "output_type": "execute_result"
    }
   ],
   "source": [
    "y[465]"
   ]
  },
  {
   "cell_type": "code",
   "execution_count": 68,
   "metadata": {},
   "outputs": [
    {
     "data": {
      "text/plain": [
       "['animation']"
      ]
     },
     "execution_count": 68,
     "metadata": {},
     "output_type": "execute_result"
    }
   ],
   "source": [
    "zanr(y[465])"
   ]
  },
  {
   "cell_type": "markdown",
   "metadata": {},
   "source": [
    "Menjamo veličinu slika kako bi sve slike bile istih dimenzija. Smanjujemo ih da bi mreža imala manje parametara i da bi bila\n",
    "lakša za treniranje."
   ]
  },
  {
   "cell_type": "code",
   "execution_count": 69,
   "metadata": {},
   "outputs": [],
   "source": [
    "for brojac in range(len(slike)):\n",
    "    slike[brojac]=slike[brojac].resize(size=(128,128))"
   ]
  },
  {
   "cell_type": "code",
   "execution_count": 70,
   "metadata": {},
   "outputs": [
    {
     "data": {
      "image/png": "[encoded data removed]",
      "text/plain": [
       "<PIL.Image.Image image mode=RGBA size=128x128 at 0x177E052EA30>"
      ]
     },
     "execution_count": 70,
     "metadata": {},
     "output_type": "execute_result"
    }
   ],
   "source": [
    "slike[465] #prikaz kako slika izgleda nakon promene veličine"
   ]
  },
  {
   "cell_type": "code",
   "execution_count": 71,
   "metadata": {},
   "outputs": [
    {
     "data": {
      "text/plain": [
       "'RGBA'"
      ]
     },
     "execution_count": 71,
     "metadata": {},
     "output_type": "execute_result"
    }
   ],
   "source": [
    "slike[465].mode #proveravamo kako su slike zadate"
   ]
  },
  {
   "cell_type": "markdown",
   "metadata": {},
   "source": [
    "Slike imaju i alfa kanal koji ćemo ukloniti."
   ]
  },
  {
   "cell_type": "code",
   "execution_count": 72,
   "metadata": {},
   "outputs": [],
   "source": [
    "for brojac in range(len(slike)):\n",
    "    slike[brojac]=slike[brojac].convert('RGB')"
   ]
  },
  {
   "cell_type": "code",
   "execution_count": 73,
   "metadata": {},
   "outputs": [
    {
     "data": {
      "text/plain": [
       "'RGB'"
      ]
     },
     "execution_count": 73,
     "metadata": {},
     "output_type": "execute_result"
    }
   ],
   "source": [
    "slike[465].mode"
   ]
  },
  {
   "cell_type": "markdown",
   "metadata": {},
   "source": [
    "Delimo podatke na trening, validacioni i test skup u odnosu 70:15:15. Prilikom podele podataka pazimo da kombinacije žanrova budu ravnomerno raspodeljene i u trening i u test skupu i iz tog razloga podešavamo stratify=y i stratify=y_train_val."
   ]
  },
  {
   "cell_type": "code",
   "execution_count": 74,
   "metadata": {},
   "outputs": [],
   "source": [
    "X_train_val, X_test, y_train_val, y_test = model_selection.train_test_split(slike,y, test_size=0.15,stratify=y)"
   ]
  },
  {
   "cell_type": "code",
   "execution_count": 75,
   "metadata": {},
   "outputs": [],
   "source": [
    "X_train, X_validation, y_train, y_validation=model_selection.train_test_split(X_train_val,y_train_val, test_size=0.1765,stratify=y_train_val)"
   ]
  },
  {
   "cell_type": "code",
   "execution_count": 76,
   "metadata": {},
   "outputs": [
    {
     "name": "stdout",
     "output_type": "stream",
     "text": [
      "24468 5244 5245 24468 5244 5245\n"
     ]
    }
   ],
   "source": [
    "print(len(X_train),len(X_test),len(X_validation),len(y_train),len(y_test),len(y_validation)) #veličine skupova"
   ]
  },
  {
   "cell_type": "code",
   "execution_count": 77,
   "metadata": {},
   "outputs": [
    {
     "data": {
      "image/png": "[encoded data removed]",
      "text/plain": [
       "<PIL.Image.Image image mode=RGB size=128x128 at 0x179A625C100>"
      ]
     },
     "execution_count": 77,
     "metadata": {},
     "output_type": "execute_result"
    }
   ],
   "source": [
    "X_train[0]"
   ]
  },
  {
   "cell_type": "code",
   "execution_count": 78,
   "metadata": {},
   "outputs": [
    {
     "data": {
      "text/plain": [
       "array([1, 0, 0, 1, 0, 0, 0, 0, 0, 0, 0, 0], dtype=int64)"
      ]
     },
     "execution_count": 78,
     "metadata": {},
     "output_type": "execute_result"
    }
   ],
   "source": [
    "y_train[0]"
   ]
  },
  {
   "cell_type": "code",
   "execution_count": 79,
   "metadata": {},
   "outputs": [
    {
     "data": {
      "text/plain": [
       "['action', 'comedy']"
      ]
     },
     "execution_count": 79,
     "metadata": {},
     "output_type": "execute_result"
    }
   ],
   "source": [
    "zanr(y_train[0])"
   ]
  },
  {
   "cell_type": "markdown",
   "metadata": {},
   "source": [
    "X_train i X_test su liste slika, a y_train i y_test su liste nizova. Prvo pretvaramo slike u nizove."
   ]
  },
  {
   "cell_type": "code",
   "execution_count": 80,
   "metadata": {},
   "outputs": [],
   "source": [
    "for brojac in range(len(X_test)):\n",
    "    X_test[brojac]=np.asarray(X_test[brojac])\n"
   ]
  },
  {
   "cell_type": "code",
   "execution_count": 81,
   "metadata": {},
   "outputs": [],
   "source": [
    "for brojac in range(len(X_train)):\n",
    "    X_train[brojac]=np.asarray(X_train[brojac])"
   ]
  },
  {
   "cell_type": "code",
   "execution_count": 82,
   "metadata": {},
   "outputs": [],
   "source": [
    "for brojac in range(len(X_validation)):\n",
    "    X_validation[brojac]=np.asarray(X_validation[brojac])"
   ]
  },
  {
   "cell_type": "markdown",
   "metadata": {},
   "source": [
    "Nakon toga, pošto sad imamo liste nizova, konvertujemo liste u nizove."
   ]
  },
  {
   "cell_type": "code",
   "execution_count": 84,
   "metadata": {},
   "outputs": [],
   "source": [
    "X_test=np.asarray(X_test)"
   ]
  },
  {
   "cell_type": "code",
   "execution_count": 85,
   "metadata": {},
   "outputs": [],
   "source": [
    "X_train=np.asarray(X_train)"
   ]
  },
  {
   "cell_type": "code",
   "execution_count": 86,
   "metadata": {},
   "outputs": [],
   "source": [
    "X_validation=np.asarray(X_validation)"
   ]
  },
  {
   "cell_type": "code",
   "execution_count": 87,
   "metadata": {},
   "outputs": [],
   "source": [
    "#normalizacija slika i promena iz uint8 u float32. Slike smo skalirali na interval [-1,1] jer je ugrađena ResNet50 mreža, \n",
    "#koju ćemo koristiti, trenirana na tako skaliranim slikama."
   ]
  },
  {
   "cell_type": "code",
   "execution_count": 88,
   "metadata": {},
   "outputs": [],
   "source": [
    "X_test = X_test.astype('float32')\n",
    "X_test /= 127.5\n",
    "X_test= X_test-1"
   ]
  },
  {
   "cell_type": "code",
   "execution_count": 89,
   "metadata": {},
   "outputs": [],
   "source": [
    "X_train = X_train.astype('float32')\n",
    "X_train /= 127.5\n",
    "X_train= X_train-1"
   ]
  },
  {
   "cell_type": "code",
   "execution_count": 90,
   "metadata": {},
   "outputs": [],
   "source": [
    "X_validation = X_validation.astype('float32')\n",
    "X_validation /= 127.5\n",
    "X_validation= X_validation-1"
   ]
  },
  {
   "cell_type": "code",
   "execution_count": 91,
   "metadata": {},
   "outputs": [
    {
     "name": "stderr",
     "output_type": "stream",
     "text": [
      "Clipping input data to the valid range for imshow with RGB data ([0..1] for floats or [0..255] for integers).\n"
     ]
    },
    {
     "data": {
      "text/plain": [
       "<matplotlib.image.AxesImage at 0x17abbfd4700>"
      ]
     },
     "execution_count": 91,
     "metadata": {},
     "output_type": "execute_result"
    },
    {
     "data": {
      "image/png": "[encoded data removed]",
      "text/plain": [
       "<Figure size 432x288 with 1 Axes>"
      ]
     },
     "metadata": {
      "needs_background": "light"
     },
     "output_type": "display_data"
    }
   ],
   "source": [
    "plt.imshow(X_train[0]) #slike sada možemo videti korišćenjem paketa matplotlib"
   ]
  },
  {
   "cell_type": "code",
   "execution_count": 92,
   "metadata": {},
   "outputs": [
    {
     "data": {
      "text/plain": [
       "(5244, 128, 128, 3)"
      ]
     },
     "execution_count": 92,
     "metadata": {},
     "output_type": "execute_result"
    }
   ],
   "source": [
    "X_test.shape"
   ]
  },
  {
   "cell_type": "code",
   "execution_count": 93,
   "metadata": {},
   "outputs": [
    {
     "data": {
      "text/plain": [
       "(24468, 128, 128, 3)"
      ]
     },
     "execution_count": 93,
     "metadata": {},
     "output_type": "execute_result"
    }
   ],
   "source": [
    "X_train.shape #vidimo da ćemo za trening mreže imati 24468 slika dimenzije (128,128,3)"
   ]
  },
  {
   "cell_type": "code",
   "execution_count": 94,
   "metadata": {},
   "outputs": [
    {
     "data": {
      "text/plain": [
       "(5245, 128, 128, 3)"
      ]
     },
     "execution_count": 94,
     "metadata": {},
     "output_type": "execute_result"
    }
   ],
   "source": [
    "X_validation.shape"
   ]
  },
  {
   "cell_type": "code",
   "execution_count": 95,
   "metadata": {},
   "outputs": [],
   "source": [
    "y_train=np.asarray(y_train) #prebacujemo i y_train,y_validation i y_test u niz nizova\n",
    "y_test=np.asarray(y_test)\n",
    "y_validation=np.asarray(y_validation)"
   ]
  },
  {
   "cell_type": "code",
   "execution_count": 96,
   "metadata": {},
   "outputs": [
    {
     "data": {
      "text/plain": [
       "(24468, 12)"
      ]
     },
     "execution_count": 96,
     "metadata": {},
     "output_type": "execute_result"
    }
   ],
   "source": [
    "y_train.shape"
   ]
  },
  {
   "cell_type": "code",
   "execution_count": 97,
   "metadata": {},
   "outputs": [
    {
     "data": {
      "text/plain": [
       "(5244, 12)"
      ]
     },
     "execution_count": 97,
     "metadata": {},
     "output_type": "execute_result"
    }
   ],
   "source": [
    "y_test.shape"
   ]
  },
  {
   "cell_type": "code",
   "execution_count": 98,
   "metadata": {},
   "outputs": [
    {
     "data": {
      "text/plain": [
       "(5245, 12)"
      ]
     },
     "execution_count": 98,
     "metadata": {},
     "output_type": "execute_result"
    }
   ],
   "source": [
    "y_validation.shape"
   ]
  },
  {
   "cell_type": "markdown",
   "metadata": {},
   "source": [
    "### Pravljenje modela"
   ]
  },
  {
   "cell_type": "markdown",
   "metadata": {},
   "source": [
    "#### Model 1"
   ]
  },
  {
   "cell_type": "code",
   "execution_count": 99,
   "metadata": {},
   "outputs": [],
   "source": [
    "velicina_ulaza=(128,128,3)"
   ]
  },
  {
   "cell_type": "code",
   "execution_count": 100,
   "metadata": {},
   "outputs": [],
   "source": [
    "broj_klasa=12"
   ]
  },
  {
   "cell_type": "code",
   "execution_count": 101,
   "metadata": {},
   "outputs": [],
   "source": [
    "model_resnet50_v2= Sequential()"
   ]
  },
  {
   "cell_type": "markdown",
   "metadata": {},
   "source": [
    "Koristimo prethodno istrenirani ResNet50 model. Sve konvolutivne neuronske mreže u početnim slojevima uče osnovne/slične paterne, iz tog razloga koristešćenje već istreniranih modela pravi veliku uštedu vremena. Takođe, ovi modeli su trenirani na ogromnoj količini podataka koju bi bilo teško obezbediti ako bismo sami trenirali ceo model. Praksa kod već istreniranih modela je da njihove težine iz konvolutivnog dela mreže sačuvamo, a da težine iz potpuno povezanog dela sami treniramo."
   ]
  },
  {
   "cell_type": "markdown",
   "metadata": {},
   "source": [
    "U potpuno povezanom sloju koristimo gusti sloj od 512 neurona, dropout sloj koji sprečava regularizaciju i izlazni sloj sa 12 neurona, jer imamo 12 klasa. U poslednjem sloju koristimo sigmoidnu aktivacionu funkciju kako bismo dobili verovatnoće pripadanja svakoj od klasa."
   ]
  },
  {
   "cell_type": "code",
   "execution_count": 102,
   "metadata": {},
   "outputs": [],
   "source": [
    "pretrained_model_v2=ResNet50(weights='imagenet',include_top=False,input_shape=velicina_ulaza, classes= broj_klasa)\n",
    "for layer in pretrained_model_v2.layers:\n",
    "    layer.trainable=False #fiksiramo slojeve mreže koje ne želimo da treniramo"
   ]
  },
  {
   "cell_type": "code",
   "execution_count": 103,
   "metadata": {},
   "outputs": [],
   "source": [
    "model_resnet50_v2.add(pretrained_model_v2)"
   ]
  },
  {
   "cell_type": "code",
   "execution_count": 104,
   "metadata": {},
   "outputs": [],
   "source": [
    "model_resnet50_v2.add(Flatten())"
   ]
  },
  {
   "cell_type": "code",
   "execution_count": 105,
   "metadata": {},
   "outputs": [],
   "source": [
    "model_resnet50_v2.add(Dense(512, activation='relu'))\n",
    "model_resnet50_v2.add(Dropout(0.5))\n",
    "model_resnet50_v2.add(Dense(12, activation='sigmoid'))"
   ]
  },
  {
   "cell_type": "code",
   "execution_count": 106,
   "metadata": {},
   "outputs": [
    {
     "name": "stdout",
     "output_type": "stream",
     "text": [
      "Model: \"sequential\"\n",
      "_________________________________________________________________\n",
      " Layer (type)                Output Shape              Param #   \n",
      "=================================================================\n",
      " resnet50 (Functional)       (None, 4, 4, 2048)        23587712  \n",
      "                                                                 \n",
      " flatten (Flatten)           (None, 32768)             0         \n",
      "                                                                 \n",
      " dense (Dense)               (None, 512)               16777728  \n",
      "                                                                 \n",
      " dropout (Dropout)           (None, 512)               0         \n",
      "                                                                 \n",
      " dense_1 (Dense)             (None, 12)                6156      \n",
      "                                                                 \n",
      "=================================================================\n",
      "Total params: 40,371,596\n",
      "Trainable params: 16,783,884\n",
      "Non-trainable params: 23,587,712\n",
      "_________________________________________________________________\n"
     ]
    }
   ],
   "source": [
    "model_resnet50_v2.summary()"
   ]
  },
  {
   "cell_type": "markdown",
   "metadata": {},
   "source": [
    "Od ukupnih 40371596 parametara, naša mreža treba da nauči 16783884."
   ]
  },
  {
   "cell_type": "markdown",
   "metadata": {},
   "source": [
    "Koristimo Adam optimizator i binarnu unakrsnu entropiju kao funkciju greške. Veličina paketića je 32, broj epoha 30, a lr 0.001."
   ]
  },
  {
   "cell_type": "code",
   "execution_count": 107,
   "metadata": {},
   "outputs": [],
   "source": [
    "batch_size = 128\n",
    "epochs = 30"
   ]
  },
  {
   "cell_type": "code",
   "execution_count": 108,
   "metadata": {},
   "outputs": [
    {
     "name": "stdout",
     "output_type": "stream",
     "text": [
      "Epoch 1/30\n",
      "192/192 [==============================] - 445s 2s/step - loss: 0.4679 - accuracy: 0.2173 - val_loss: 0.4352 - val_accuracy: 0.2431\n",
      "Epoch 2/30\n",
      "192/192 [==============================] - 434s 2s/step - loss: 0.4435 - accuracy: 0.2558 - val_loss: 0.4323 - val_accuracy: 0.2429\n",
      "Epoch 3/30\n",
      "192/192 [==============================] - 434s 2s/step - loss: 0.4375 - accuracy: 0.2622 - val_loss: 0.4301 - val_accuracy: 0.3058\n",
      "Epoch 4/30\n",
      "192/192 [==============================] - 434s 2s/step - loss: 0.4326 - accuracy: 0.2744 - val_loss: 0.4302 - val_accuracy: 0.2936\n",
      "Epoch 5/30\n",
      "192/192 [==============================] - 434s 2s/step - loss: 0.4301 - accuracy: 0.2802 - val_loss: 0.4309 - val_accuracy: 0.2770\n",
      "Epoch 6/30\n",
      "192/192 [==============================] - 434s 2s/step - loss: 0.4251 - accuracy: 0.2879 - val_loss: 0.4327 - val_accuracy: 0.2555\n",
      "Epoch 7/30\n",
      "192/192 [==============================] - 436s 2s/step - loss: 0.4218 - accuracy: 0.2897 - val_loss: 0.4319 - val_accuracy: 0.2864\n",
      "Epoch 8/30\n",
      "192/192 [==============================] - 433s 2s/step - loss: 0.4179 - accuracy: 0.2934 - val_loss: 0.4291 - val_accuracy: 0.2951\n",
      "Epoch 9/30\n",
      "192/192 [==============================] - 434s 2s/step - loss: 0.4133 - accuracy: 0.3051 - val_loss: 0.4317 - val_accuracy: 0.2839\n",
      "Epoch 10/30\n",
      "192/192 [==============================] - 434s 2s/step - loss: 0.4109 - accuracy: 0.3043 - val_loss: 0.4336 - val_accuracy: 0.2601\n",
      "Epoch 11/30\n",
      "192/192 [==============================] - 432s 2s/step - loss: 0.4058 - accuracy: 0.3084 - val_loss: 0.4329 - val_accuracy: 0.2728\n",
      "Epoch 12/30\n",
      "192/192 [==============================] - 432s 2s/step - loss: 0.4018 - accuracy: 0.3159 - val_loss: 0.4339 - val_accuracy: 0.2946\n",
      "Epoch 13/30\n",
      "192/192 [==============================] - 432s 2s/step - loss: 0.3990 - accuracy: 0.3155 - val_loss: 0.4361 - val_accuracy: 0.2948\n",
      "Epoch 14/30\n",
      "192/192 [==============================] - 432s 2s/step - loss: 0.3970 - accuracy: 0.3203 - val_loss: 0.4373 - val_accuracy: 0.2589\n",
      "Epoch 15/30\n",
      "192/192 [==============================] - 432s 2s/step - loss: 0.3940 - accuracy: 0.3223 - val_loss: 0.4377 - val_accuracy: 0.2698\n",
      "Epoch 16/30\n",
      "192/192 [==============================] - 431s 2s/step - loss: 0.3900 - accuracy: 0.3291 - val_loss: 0.4391 - val_accuracy: 0.2747\n",
      "Epoch 17/30\n",
      "192/192 [==============================] - 431s 2s/step - loss: 0.3879 - accuracy: 0.3315 - val_loss: 0.4402 - val_accuracy: 0.2602\n",
      "Epoch 18/30\n",
      "192/192 [==============================] - 431s 2s/step - loss: 0.3815 - accuracy: 0.3359 - val_loss: 0.4464 - val_accuracy: 0.2618\n",
      "Epoch 19/30\n",
      "192/192 [==============================] - 430s 2s/step - loss: 0.3806 - accuracy: 0.3353 - val_loss: 0.4450 - val_accuracy: 0.2822\n",
      "Epoch 20/30\n",
      "192/192 [==============================] - 431s 2s/step - loss: 0.3758 - accuracy: 0.3425 - val_loss: 0.4521 - val_accuracy: 0.2768\n",
      "Epoch 21/30\n",
      "192/192 [==============================] - 431s 2s/step - loss: 0.3739 - accuracy: 0.3425 - val_loss: 0.4574 - val_accuracy: 0.2536\n",
      "Epoch 22/30\n",
      "192/192 [==============================] - 431s 2s/step - loss: 0.3711 - accuracy: 0.3473 - val_loss: 0.4547 - val_accuracy: 0.2606\n",
      "Epoch 23/30\n",
      "192/192 [==============================] - 431s 2s/step - loss: 0.3692 - accuracy: 0.3466 - val_loss: 0.4579 - val_accuracy: 0.2726\n",
      "Epoch 24/30\n",
      "192/192 [==============================] - 431s 2s/step - loss: 0.3668 - accuracy: 0.3440 - val_loss: 0.4587 - val_accuracy: 0.2597\n",
      "Epoch 25/30\n",
      "192/192 [==============================] - 430s 2s/step - loss: 0.3627 - accuracy: 0.3520 - val_loss: 0.4615 - val_accuracy: 0.2547\n",
      "Epoch 26/30\n",
      "192/192 [==============================] - 431s 2s/step - loss: 0.3583 - accuracy: 0.3601 - val_loss: 0.4674 - val_accuracy: 0.2715\n",
      "Epoch 27/30\n",
      "192/192 [==============================] - 434s 2s/step - loss: 0.3588 - accuracy: 0.3546 - val_loss: 0.4734 - val_accuracy: 0.2694\n",
      "Epoch 28/30\n",
      "192/192 [==============================] - 431s 2s/step - loss: 0.3551 - accuracy: 0.3601 - val_loss: 0.4692 - val_accuracy: 0.2532\n",
      "Epoch 29/30\n",
      "192/192 [==============================] - 431s 2s/step - loss: 0.3508 - accuracy: 0.3646 - val_loss: 0.4811 - val_accuracy: 0.2467\n",
      "Epoch 30/30\n",
      "192/192 [==============================] - 431s 2s/step - loss: 0.3483 - accuracy: 0.3654 - val_loss: 0.4805 - val_accuracy: 0.2663\n"
     ]
    }
   ],
   "source": [
    "model_resnet50_v2.compile(optimizer=Adam(lr=0.001),loss='binary_crossentropy',metrics=['accuracy'])\n",
    "history = model_resnet50_v2.fit(X_train, y_train, batch_size=batch_size, epochs=epochs, verbose=1, validation_data=(X_validation,y_validation) )"
   ]
  },
  {
   "cell_type": "code",
   "execution_count": 109,
   "metadata": {},
   "outputs": [
    {
     "data": {
      "image/png": "[encoded data removed]",
      "text/plain": [
       "<Figure size 720x288 with 2 Axes>"
      ]
     },
     "metadata": {
      "needs_background": "light"
     },
     "output_type": "display_data"
    }
   ],
   "source": [
    "plt.figure(figsize=(10, 4)) \n",
    "\n",
    "plt.subplot(1, 2, 1)\n",
    "plt.title('Loss')\n",
    "plt.plot(np.arange(0, epochs), history.history['loss'], label='train')\n",
    "plt.plot(np.arange(0, epochs), history.history['val_loss'], label='validation')\n",
    "plt.legend(loc='best')\n",
    "\n",
    "\n",
    "plt.subplot(1, 2, 2)\n",
    "plt.title('Accuracy')\n",
    "plt.plot(np.arange(0, epochs), history.history['accuracy'], label='train')\n",
    "plt.plot(np.arange(0, epochs), history.history['val_accuracy'], label='validation')\n",
    "plt.legend(loc='best')\n",
    "\n",
    "plt.show()"
   ]
  },
  {
   "cell_type": "markdown",
   "metadata": {},
   "source": [
    "Iz grafika već možemo primetiti da ovaj model nije zadovoljavajuć, greška na trening skupu se smanjuje, tačnost raste, ali se obrnuto događa na skupu za validaciju, što nam pokazuje da se model previše prilagođava datim podacima. Svakako, proverićemo i koje rezultate daju osnovne tehnike evaluacije."
   ]
  },
  {
   "cell_type": "markdown",
   "metadata": {},
   "source": [
    "##### Evaluacija modela"
   ]
  },
  {
   "cell_type": "code",
   "execution_count": 110,
   "metadata": {},
   "outputs": [
    {
     "name": "stdout",
     "output_type": "stream",
     "text": [
      "164/164 [==============================] - 100s 603ms/step\n"
     ]
    }
   ],
   "source": [
    "y_predikcija=model_resnet50_v2.predict(X_test)"
   ]
  },
  {
   "cell_type": "markdown",
   "metadata": {},
   "source": [
    "Pošto smo koristili sigmoidnu funkciju, vrednost y_predikcija će biti vektor dužine 13 koji ima brojeve između 0 i 1.\n",
    "Oni predstavljaju verovatnoću pripadanja odredjenoj klasi. Kako bismo dobili konačne vrednosti predikcije potrebno je da\n",
    "brojeve koji su manji od 0.5 zamenimo sa 0, a oni koji su veći ili jednaki zamenimo sa 1."
   ]
  },
  {
   "cell_type": "code",
   "execution_count": 111,
   "metadata": {},
   "outputs": [],
   "source": [
    "y_pred=[]"
   ]
  },
  {
   "cell_type": "code",
   "execution_count": 112,
   "metadata": {},
   "outputs": [],
   "source": [
    "for i in y_predikcija:\n",
    "  y_pred.append([1 if j>=0.5 else 0 for j in i ])\n",
    "# sa i se krecemo kroz y_predikcija, odnosno i predstavlja vektor dužine 13, a sa j se krećemo kroz tih 13 brojeva i\n",
    "# zamenjujemo ih jedinicom ili nulom u zavisnosti od toga da li su veci(i jednaki) od 0.5 ili manji."
   ]
  },
  {
   "cell_type": "code",
   "execution_count": 113,
   "metadata": {},
   "outputs": [
    {
     "data": {
      "text/plain": [
       "array([[0, 0, 1, ..., 0, 0, 0],\n",
       "       [0, 0, 0, ..., 0, 0, 0],\n",
       "       [0, 0, 0, ..., 0, 0, 0],\n",
       "       ...,\n",
       "       [0, 0, 0, ..., 0, 0, 0],\n",
       "       [0, 0, 0, ..., 0, 0, 0],\n",
       "       [0, 0, 0, ..., 0, 0, 0]])"
      ]
     },
     "execution_count": 113,
     "metadata": {},
     "output_type": "execute_result"
    }
   ],
   "source": [
    "y_pred = np.array(y_pred)\n",
    "y_pred"
   ]
  },
  {
   "cell_type": "markdown",
   "metadata": {},
   "source": [
    "U problemu višeklasne klasifikacije kod kog zavisna promenljiva može imati više klasa postoje različite tehnike evaluacije koje se mogu razlikovati od tehnika evaluacije za binarnu klasifikaciju. Prilikom poziva funkcije multilabel_confusion_matrix dobijamo više matrica konfuzije. Svaka matrica odgovara jednoj klasi i treba obratiti pažnju na to da je raspored elemenata u matrici drugačiji od standardne matrice konfuzije. U prvom redu nalaze se brojevi TN i FP, redom, a u drugom redu FN i TP. \n"
   ]
  },
  {
   "cell_type": "markdown",
   "metadata": {},
   "source": [
    "TN- broj koliko puta model nije predvideo određenu klasu i ta klasa nije ni trebalo da bude pogođena\n",
    "FP- broj koliko je puta model predvideo određenu klasu, a ona nije bila tačna\n",
    "FN- broj koliko puta model nije predvideo određenu klasu, a ona je bila tačna\n",
    "TP- broj koliko je puta model predvideo određenu klasu i ona je bila tačna"
   ]
  },
  {
   "cell_type": "code",
   "execution_count": 114,
   "metadata": {},
   "outputs": [
    {
     "data": {
      "text/plain": [
       "array([[[3465,  289],\n",
       "        [1185,  305]],\n",
       "\n",
       "       [[4376,   55],\n",
       "        [ 777,   36]],\n",
       "\n",
       "       [[4330,  124],\n",
       "        [ 532,  258]],\n",
       "\n",
       "       [[3105,  556],\n",
       "        [1016,  567]],\n",
       "\n",
       "       [[4379,   73],\n",
       "        [ 756,   36]],\n",
       "\n",
       "       [[2877,  490],\n",
       "        [1446,  431]],\n",
       "\n",
       "       [[4677,    1],\n",
       "        [ 566,    0]],\n",
       "\n",
       "       [[4127,  153],\n",
       "        [ 839,  125]],\n",
       "\n",
       "       [[4576,    6],\n",
       "        [ 660,    2]],\n",
       "\n",
       "       [[4536,   39],\n",
       "        [ 631,   38]],\n",
       "\n",
       "       [[4707,    4],\n",
       "        [ 528,    5]],\n",
       "\n",
       "       [[4190,   58],\n",
       "        [ 973,   23]]], dtype=int64)"
      ]
     },
     "execution_count": 114,
     "metadata": {},
     "output_type": "execute_result"
    }
   ],
   "source": [
    "multilabel_confusion_matrix(y_test, y_pred)"
   ]
  },
  {
   "cell_type": "markdown",
   "metadata": {},
   "source": [
    "I iz matrica konfuzije vidimo da naš model nije mnogo dobar. Model za sve klase uglavnom predviđa da se film ne nalazi u datoj klasi i iz tog razloga imamo veliki broj TN i FN vrednosti. Takodje klase kao što su naučna fantastika, misterija i horor skoro da i ne smatra mogućim, pa je retko kojoj instanci pridodao pripadnost ovim klasama. Razlog za ovako loše učenje ovih klasa je verovatno njihova manja zastupljenost među podacima. Možemo primetiti da najviše TP i FP vrednosti imaju zastupljenije klase iz čega zaključujemo da model nije dobro naučio da generalizuje, pa uglavnom predvidja većinske klase."
   ]
  },
  {
   "cell_type": "markdown",
   "metadata": {},
   "source": [
    "Preciznost i odziv za svaku klasu računaju se na isti način kao i inače. F1-score je harmonijska sredina preciznosti i odziva."
   ]
  },
  {
   "cell_type": "markdown",
   "metadata": {},
   "source": [
    "Precision = TP/(TP + FP) "
   ]
  },
  {
   "cell_type": "markdown",
   "metadata": {},
   "source": [
    "Recall = TP/(TP + FN) "
   ]
  },
  {
   "cell_type": "markdown",
   "metadata": {},
   "source": [
    "Macro avg od neke mere predstavlja prosek vrednosti te mere za sve klase. Micro avg računa preciznost, odziv i f1-score po poznatim formulama, ali umesto TP,TN,FP i FN za jednu klasu koristi ove vrednosti sabrane za sve klase. Samples avg računa svaku od mera evaluacije za sve instance redom i uprosečava ih."
   ]
  },
  {
   "cell_type": "code",
   "execution_count": 115,
   "metadata": {},
   "outputs": [
    {
     "name": "stdout",
     "output_type": "stream",
     "text": [
      "              precision    recall  f1-score   support\n",
      "\n",
      "      action       0.51      0.20      0.29      1490\n",
      "   adventure       0.40      0.04      0.08       813\n",
      "   animation       0.68      0.33      0.44       790\n",
      "      comedy       0.50      0.36      0.42      1583\n",
      "       crime       0.33      0.05      0.08       792\n",
      "       drama       0.47      0.23      0.31      1877\n",
      "     fantasy       0.00      0.00      0.00       566\n",
      "      horror       0.45      0.13      0.20       964\n",
      "     mystery       0.25      0.00      0.01       662\n",
      "     romance       0.49      0.06      0.10       669\n",
      "      sci-fi       0.56      0.01      0.02       533\n",
      "    thriller       0.28      0.02      0.04       996\n",
      "\n",
      "   micro avg       0.50      0.16      0.24     11735\n",
      "   macro avg       0.41      0.12      0.17     11735\n",
      "weighted avg       0.43      0.16      0.21     11735\n",
      " samples avg       0.27      0.16      0.19     11735\n",
      "\n"
     ]
    }
   ],
   "source": [
    "print(classification_report(y_test, y_pred,target_names=imena_klasa))"
   ]
  },
  {
   "cell_type": "code",
   "execution_count": 283,
   "metadata": {},
   "outputs": [],
   "source": [
    "macro_f1_1=0.17"
   ]
  },
  {
   "cell_type": "markdown",
   "metadata": {},
   "source": [
    "Accuracy_score predstavlja odnos broja tačno pogođenih predikcija i svih predikcija. "
   ]
  },
  {
   "cell_type": "code",
   "execution_count": 178,
   "metadata": {},
   "outputs": [
    {
     "data": {
      "text/plain": [
       "0.02917620137299771"
      ]
     },
     "execution_count": 178,
     "metadata": {},
     "output_type": "execute_result"
    }
   ],
   "source": [
    "acc1=accuracy_score(y_test,y_pred)\n",
    "acc1"
   ]
  },
  {
   "cell_type": "markdown",
   "metadata": {},
   "source": [
    "Ovo je najstroža mera jer zahteva da bude pogođen svaki navedeni žanr filma. Kod modela koji mogu imati više tačnih klasa ne možemo isto tretirati predikciju koja nema pogođenu nijednu tačnu klasu i onu kod koje je bar nešto tačno, iz tog razloga koristi se blaža tehnika evaluacije koja se zove hamming_loss. Ona predstavlja odnos broja pogrešno predviđenih klasa u svim iteracijama i broja svih predviđanja ukupno. Model treba da ima što manji hamming_loss."
   ]
  },
  {
   "cell_type": "code",
   "execution_count": 177,
   "metadata": {},
   "outputs": [
    {
     "data": {
      "text/plain": [
       "0.18683257055682684"
      ]
     },
     "execution_count": 177,
     "metadata": {},
     "output_type": "execute_result"
    }
   ],
   "source": [
    "hamming1=hamming_loss(y_test, y_pred)\n",
    "hamming1"
   ]
  },
  {
   "cell_type": "code",
   "execution_count": 330,
   "metadata": {},
   "outputs": [],
   "source": [
    "model_resnet50_v2.save('model_resnet50_v2.h5')\n"
   ]
  },
  {
   "cell_type": "markdown",
   "metadata": {},
   "source": [
    "#### Model 2"
   ]
  },
  {
   "cell_type": "markdown",
   "metadata": {},
   "source": [
    "Pokušaćemo da popravimo rezultate prethodnog modela. Ovaj model se neće mnogo razlikovati od prethodnog, već ćemo samo povećanjem parametra u dropout sloju pokušati da smanjimo preprilagođavanje."
   ]
  },
  {
   "cell_type": "code",
   "execution_count": 121,
   "metadata": {},
   "outputs": [],
   "source": [
    "model_resnet50_v2_= Sequential()"
   ]
  },
  {
   "cell_type": "code",
   "execution_count": 122,
   "metadata": {},
   "outputs": [],
   "source": [
    "model_resnet50_v2_.add(pretrained_model_v2)\n",
    "model_resnet50_v2_.add(Flatten())\n",
    "model_resnet50_v2_.add(Dense(512, activation='relu'))\n",
    "model_resnet50_v2_.add(Dropout(0.7))\n",
    "model_resnet50_v2_.add(Dense(12, activation='sigmoid'))"
   ]
  },
  {
   "cell_type": "code",
   "execution_count": 123,
   "metadata": {},
   "outputs": [],
   "source": [
    "batch_size = 128\n",
    "epochs = 20"
   ]
  },
  {
   "cell_type": "code",
   "execution_count": 124,
   "metadata": {},
   "outputs": [
    {
     "name": "stdout",
     "output_type": "stream",
     "text": [
      "Epoch 1/20\n",
      "192/192 [==============================] - 433s 2s/step - loss: 0.4872 - accuracy: 0.1956 - val_loss: 0.4380 - val_accuracy: 0.2463\n",
      "Epoch 2/20\n",
      "192/192 [==============================] - 425s 2s/step - loss: 0.4603 - accuracy: 0.2299 - val_loss: 0.4395 - val_accuracy: 0.2498\n",
      "Epoch 3/20\n",
      "192/192 [==============================] - 425s 2s/step - loss: 0.4561 - accuracy: 0.2380 - val_loss: 0.4373 - val_accuracy: 0.2896\n",
      "Epoch 4/20\n",
      "192/192 [==============================] - 425s 2s/step - loss: 0.4505 - accuracy: 0.2417 - val_loss: 0.4346 - val_accuracy: 0.2805\n",
      "Epoch 5/20\n",
      "192/192 [==============================] - 424s 2s/step - loss: 0.4480 - accuracy: 0.2468 - val_loss: 0.4322 - val_accuracy: 0.2829\n",
      "Epoch 6/20\n",
      "192/192 [==============================] - 425s 2s/step - loss: 0.4451 - accuracy: 0.2539 - val_loss: 0.4313 - val_accuracy: 0.2559\n",
      "Epoch 7/20\n",
      "192/192 [==============================] - 425s 2s/step - loss: 0.4421 - accuracy: 0.2595 - val_loss: 0.4330 - val_accuracy: 0.2503\n",
      "Epoch 8/20\n",
      "192/192 [==============================] - 426s 2s/step - loss: 0.4403 - accuracy: 0.2600 - val_loss: 0.4311 - val_accuracy: 0.2587\n",
      "Epoch 9/20\n",
      "192/192 [==============================] - 425s 2s/step - loss: 0.4377 - accuracy: 0.2656 - val_loss: 0.4310 - val_accuracy: 0.2564\n",
      "Epoch 10/20\n",
      "192/192 [==============================] - 426s 2s/step - loss: 0.4354 - accuracy: 0.2632 - val_loss: 0.4307 - val_accuracy: 0.2929\n",
      "Epoch 11/20\n",
      "192/192 [==============================] - 425s 2s/step - loss: 0.4331 - accuracy: 0.2689 - val_loss: 0.4304 - val_accuracy: 0.2692\n",
      "Epoch 12/20\n",
      "192/192 [==============================] - 422s 2s/step - loss: 0.4301 - accuracy: 0.2730 - val_loss: 0.4296 - val_accuracy: 0.2681\n",
      "Epoch 13/20\n",
      "192/192 [==============================] - 421s 2s/step - loss: 0.4296 - accuracy: 0.2719 - val_loss: 0.4312 - val_accuracy: 0.2990\n",
      "Epoch 14/20\n",
      "192/192 [==============================] - 424s 2s/step - loss: 0.4282 - accuracy: 0.2753 - val_loss: 0.4308 - val_accuracy: 0.2456\n",
      "Epoch 15/20\n",
      "192/192 [==============================] - 424s 2s/step - loss: 0.4251 - accuracy: 0.2774 - val_loss: 0.4307 - val_accuracy: 0.2921\n",
      "Epoch 16/20\n",
      "192/192 [==============================] - 422s 2s/step - loss: 0.4247 - accuracy: 0.2796 - val_loss: 0.4309 - val_accuracy: 0.2745\n",
      "Epoch 17/20\n",
      "192/192 [==============================] - 422s 2s/step - loss: 0.4231 - accuracy: 0.2808 - val_loss: 0.4316 - val_accuracy: 0.2561\n",
      "Epoch 18/20\n",
      "192/192 [==============================] - 423s 2s/step - loss: 0.4217 - accuracy: 0.2841 - val_loss: 0.4318 - val_accuracy: 0.2801\n",
      "Epoch 19/20\n",
      "192/192 [==============================] - 422s 2s/step - loss: 0.4209 - accuracy: 0.2802 - val_loss: 0.4313 - val_accuracy: 0.2643\n",
      "Epoch 20/20\n",
      "192/192 [==============================] - 422s 2s/step - loss: 0.4194 - accuracy: 0.2829 - val_loss: 0.4336 - val_accuracy: 0.2860\n"
     ]
    }
   ],
   "source": [
    "model_resnet50_v2_.compile(optimizer=Adam(lr=0.001),loss='binary_crossentropy',metrics=['accuracy'])\n",
    "history = model_resnet50_v2_.fit(X_train, y_train, batch_size=batch_size, epochs=epochs, verbose=1, validation_data=(X_validation,y_validation) )"
   ]
  },
  {
   "cell_type": "code",
   "execution_count": 125,
   "metadata": {},
   "outputs": [
    {
     "data": {
      "image/png": "[encoded data removed]",
      "text/plain": [
       "<Figure size 720x288 with 2 Axes>"
      ]
     },
     "metadata": {
      "needs_background": "light"
     },
     "output_type": "display_data"
    }
   ],
   "source": [
    "plt.figure(figsize=(10, 4)) \n",
    "\n",
    "plt.subplot(1, 2, 1)\n",
    "plt.title('Loss')\n",
    "plt.plot(np.arange(0, epochs), history.history['loss'], label='train')\n",
    "plt.plot(np.arange(0, epochs), history.history['val_loss'], label='validation')\n",
    "plt.legend(loc='best')\n",
    "\n",
    "\n",
    "plt.subplot(1, 2, 2)\n",
    "plt.title('Accuracy')\n",
    "plt.plot(np.arange(0, epochs), history.history['accuracy'], label='train')\n",
    "plt.plot(np.arange(0, epochs), history.history['val_accuracy'], label='validation')\n",
    "plt.legend(loc='best')\n",
    "\n",
    "plt.show()"
   ]
  },
  {
   "cell_type": "markdown",
   "metadata": {},
   "source": [
    "Sa grafika vidimo da preprilagođavanje počinje od kasnije epohe, ali suštinski ovaj model nije doneo neka poboljšanja."
   ]
  },
  {
   "cell_type": "markdown",
   "metadata": {},
   "source": [
    "##### Evaluacija modela"
   ]
  },
  {
   "cell_type": "code",
   "execution_count": 221,
   "metadata": {},
   "outputs": [
    {
     "name": "stdout",
     "output_type": "stream",
     "text": [
      "164/164 [==============================] - 108s 536ms/step\n"
     ]
    }
   ],
   "source": [
    "y_predikcija_v2_=model_resnet50_v2_.predict(X_test)\n",
    "y_pred_v2_=[]\n",
    "for i in y_predikcija_v2_:\n",
    "  y_pred_v2_.append([1 if j>=0.5 else 0 for j in i ])\n",
    "y_pred_v2_ = np.array(y_pred_v2_)"
   ]
  },
  {
   "cell_type": "code",
   "execution_count": 222,
   "metadata": {},
   "outputs": [
    {
     "data": {
      "text/plain": [
       "array([[[3665,   89],\n",
       "        [1354,  136]],\n",
       "\n",
       "       [[4428,    3],\n",
       "        [ 812,    1]],\n",
       "\n",
       "       [[4414,   40],\n",
       "        [ 656,  134]],\n",
       "\n",
       "       [[3448,  213],\n",
       "        [1264,  319]],\n",
       "\n",
       "       [[4452,    0],\n",
       "        [ 792,    0]],\n",
       "\n",
       "       [[3329,   38],\n",
       "        [1849,   28]],\n",
       "\n",
       "       [[4678,    0],\n",
       "        [ 566,    0]],\n",
       "\n",
       "       [[4273,    7],\n",
       "        [ 963,    1]],\n",
       "\n",
       "       [[4582,    0],\n",
       "        [ 662,    0]],\n",
       "\n",
       "       [[4568,    7],\n",
       "        [ 657,   12]],\n",
       "\n",
       "       [[4711,    0],\n",
       "        [ 533,    0]],\n",
       "\n",
       "       [[4244,    4],\n",
       "        [ 993,    3]]], dtype=int64)"
      ]
     },
     "execution_count": 222,
     "metadata": {},
     "output_type": "execute_result"
    }
   ],
   "source": [
    "multilabel_confusion_matrix(y_test, y_pred_v2_)"
   ]
  },
  {
   "cell_type": "markdown",
   "metadata": {},
   "source": [
    "Iz matrica konfuzija i dole prikazanog klasifikacionog izveštaja vidimo da je ovaj model još lošije uči od prethodnog. Iz preciznosti i odziva vidimo da model skoro da i ne predvidja neku klasu pozitivnom, a kad to i uradi verovatnoća da je pogodio nije velika."
   ]
  },
  {
   "cell_type": "code",
   "execution_count": 223,
   "metadata": {},
   "outputs": [
    {
     "name": "stdout",
     "output_type": "stream",
     "text": [
      "              precision    recall  f1-score   support\n",
      "\n",
      "      action       0.60      0.09      0.16      1490\n",
      "   adventure       0.25      0.00      0.00       813\n",
      "   animation       0.77      0.17      0.28       790\n",
      "      comedy       0.60      0.20      0.30      1583\n",
      "       crime       0.00      0.00      0.00       792\n",
      "       drama       0.42      0.01      0.03      1877\n",
      "     fantasy       0.00      0.00      0.00       566\n",
      "      horror       0.12      0.00      0.00       964\n",
      "     mystery       0.00      0.00      0.00       662\n",
      "     romance       0.63      0.02      0.03       669\n",
      "      sci-fi       0.00      0.00      0.00       533\n",
      "    thriller       0.43      0.00      0.01       996\n",
      "\n",
      "   micro avg       0.61      0.05      0.10     11735\n",
      "   macro avg       0.32      0.04      0.07     11735\n",
      "weighted avg       0.38      0.05      0.09     11735\n",
      " samples avg       0.10      0.05      0.07     11735\n",
      "\n"
     ]
    }
   ],
   "source": [
    "print(classification_report(y_test, y_pred_v2_,target_names=imena_klasa))"
   ]
  },
  {
   "cell_type": "code",
   "execution_count": 232,
   "metadata": {},
   "outputs": [],
   "source": [
    "macro_f1_2=0.07"
   ]
  },
  {
   "cell_type": "code",
   "execution_count": 224,
   "metadata": {},
   "outputs": [
    {
     "data": {
      "text/plain": [
       "0.008581235697940504"
      ]
     },
     "execution_count": 224,
     "metadata": {},
     "output_type": "execute_result"
    }
   ],
   "source": [
    "acc2=accuracy_score(y_test,y_pred_v2_)\n",
    "acc2"
   ]
  },
  {
   "cell_type": "code",
   "execution_count": 225,
   "metadata": {},
   "outputs": [
    {
     "data": {
      "text/plain": [
       "0.18278032036613273"
      ]
     },
     "execution_count": 225,
     "metadata": {},
     "output_type": "execute_result"
    }
   ],
   "source": [
    "hamming2=hamming_loss(y_test,y_pred_v2_)\n",
    "hamming2"
   ]
  },
  {
   "cell_type": "code",
   "execution_count": 331,
   "metadata": {},
   "outputs": [],
   "source": [
    "model_resnet50_v2_.save('model_resnet50_v2_.h5')"
   ]
  },
  {
   "cell_type": "markdown",
   "metadata": {},
   "source": [
    "#### Model 3"
   ]
  },
  {
   "cell_type": "markdown",
   "metadata": {},
   "source": [
    "Ovim modelom pokušaćemo da dođemo do boljih rezultata tako što ćemo trenirati i neke od težina ugrađene ResNet50 mreže kako bismo je više prilagodili našem zadatku. ResNet50 mreže sadrže u sebi blokove koji izgledaju kao na slici ispod. Parametre poslednjeg bloka ćemo podesiti da budu mogući za trening. Zbog loših rezultata prethodnog sloja, dropout parametar ćemo smanjiti na 0.6. Ostale vrednosti ostaju iste kao za prethodni model."
   ]
  },
  {
   "attachments": {
    "slika2.PNG": {
     "image/png": "[encoded data removed]"
    }
   },
   "cell_type": "markdown",
   "metadata": {},
   "source": [
    "![slika2.PNG](attachment:slika2.PNG)"
   ]
  },
  {
   "cell_type": "code",
   "execution_count": 288,
   "metadata": {},
   "outputs": [
    {
     "name": "stdout",
     "output_type": "stream",
     "text": [
      "<keras.layers.convolutional.conv2d.Conv2D object at 0x0000017AE8E51760>\n",
      "<keras.layers.normalization.batch_normalization.BatchNormalization object at 0x0000017AE8E93DC0>\n",
      "<keras.layers.core.activation.Activation object at 0x0000017AE8EB7FD0>\n",
      "<keras.layers.convolutional.conv2d.Conv2D object at 0x0000017AE8E31130>\n",
      "<keras.layers.normalization.batch_normalization.BatchNormalization object at 0x0000017AE8ED0E50>\n",
      "<keras.layers.core.activation.Activation object at 0x0000017AE8E8B9D0>\n",
      "<keras.layers.convolutional.conv2d.Conv2D object at 0x0000017AE8EFA520>\n",
      "<keras.layers.normalization.batch_normalization.BatchNormalization object at 0x0000017AE8EFA910>\n",
      "<keras.layers.merging.add.Add object at 0x0000017AE8EF12B0>\n",
      "<keras.layers.core.activation.Activation object at 0x0000017AE8E816A0>\n"
     ]
    }
   ],
   "source": [
    "pretrained_model_v2_1=ResNet50(weights='imagenet',include_top=False,input_shape=velicina_ulaza, classes= broj_klasa)\n",
    "for i in pretrained_model_v2_1.layers[165:176]:\n",
    "    print(i)\n"
   ]
  },
  {
   "cell_type": "code",
   "execution_count": 289,
   "metadata": {},
   "outputs": [
    {
     "name": "stdout",
     "output_type": "stream",
     "text": [
      "Model: \"sequential_8\"\n",
      "_________________________________________________________________\n",
      " Layer (type)                Output Shape              Param #   \n",
      "=================================================================\n",
      " resnet50 (Functional)       (None, 4, 4, 2048)        23587712  \n",
      "                                                                 \n",
      " flatten_7 (Flatten)         (None, 32768)             0         \n",
      "                                                                 \n",
      " dense_14 (Dense)            (None, 512)               16777728  \n",
      "                                                                 \n",
      " dropout_7 (Dropout)         (None, 512)               0         \n",
      "                                                                 \n",
      " dense_15 (Dense)            (None, 12)                6156      \n",
      "                                                                 \n",
      "=================================================================\n",
      "Total params: 40,371,596\n",
      "Trainable params: 21,249,548\n",
      "Non-trainable params: 19,122,048\n",
      "_________________________________________________________________\n"
     ]
    }
   ],
   "source": [
    "model_resnet50_v2_1= Sequential()\n",
    "pretrained_model_v2_1=ResNet50(weights='imagenet',include_top=False,input_shape=velicina_ulaza, classes= broj_klasa)\n",
    "for i in range(len(pretrained_model_v2_1.layers)-10):\n",
    "    pretrained_model_v2_1.layers[i].trainable = False\n",
    "model_resnet50_v2_1.add(pretrained_model_v2_1)\n",
    "model_resnet50_v2_1.add(Flatten())\n",
    "model_resnet50_v2_1.add(Dense(512, activation='relu'))\n",
    "model_resnet50_v2_1.add(Dropout(0.6))\n",
    "model_resnet50_v2_1.add(Dense(12, activation='sigmoid'))\n",
    "model_resnet50_v2_1.summary()"
   ]
  },
  {
   "cell_type": "code",
   "execution_count": 290,
   "metadata": {},
   "outputs": [
    {
     "name": "stdout",
     "output_type": "stream",
     "text": [
      "Epoch 1/20\n",
      "192/192 [==============================] - 571s 3s/step - loss: 0.4903 - accuracy: 0.2085 - val_loss: 0.4355 - val_accuracy: 0.2446\n",
      "Epoch 2/20\n",
      "192/192 [==============================] - 556s 3s/step - loss: 0.4488 - accuracy: 0.2453 - val_loss: 0.4333 - val_accuracy: 0.2378\n",
      "Epoch 3/20\n",
      "192/192 [==============================] - 561s 3s/step - loss: 0.4414 - accuracy: 0.2641 - val_loss: 0.4343 - val_accuracy: 0.2597\n",
      "Epoch 4/20\n",
      "192/192 [==============================] - 562s 3s/step - loss: 0.4354 - accuracy: 0.2750 - val_loss: 0.4301 - val_accuracy: 0.2566\n",
      "Epoch 5/20\n",
      "192/192 [==============================] - 559s 3s/step - loss: 0.4288 - accuracy: 0.2875 - val_loss: 0.4291 - val_accuracy: 0.2700\n",
      "Epoch 6/20\n",
      "192/192 [==============================] - 566s 3s/step - loss: 0.4219 - accuracy: 0.2926 - val_loss: 0.4562 - val_accuracy: 0.2711\n",
      "Epoch 7/20\n",
      "192/192 [==============================] - 561s 3s/step - loss: 0.4140 - accuracy: 0.3109 - val_loss: 0.4411 - val_accuracy: 0.2427\n",
      "Epoch 8/20\n",
      "192/192 [==============================] - 558s 3s/step - loss: 0.4036 - accuracy: 0.3212 - val_loss: 0.4461 - val_accuracy: 0.2461\n",
      "Epoch 9/20\n",
      "192/192 [==============================] - 558s 3s/step - loss: 0.3926 - accuracy: 0.3353 - val_loss: 0.4571 - val_accuracy: 0.2419\n",
      "Epoch 10/20\n",
      "192/192 [==============================] - 568s 3s/step - loss: 0.3807 - accuracy: 0.3449 - val_loss: 0.4507 - val_accuracy: 0.2833\n",
      "Epoch 11/20\n",
      "192/192 [==============================] - 561s 3s/step - loss: 0.3665 - accuracy: 0.3695 - val_loss: 0.4672 - val_accuracy: 0.2496\n",
      "Epoch 12/20\n",
      "192/192 [==============================] - 556s 3s/step - loss: 0.3510 - accuracy: 0.3839 - val_loss: 0.4783 - val_accuracy: 0.2332\n",
      "Epoch 13/20\n",
      "192/192 [==============================] - 556s 3s/step - loss: 0.3376 - accuracy: 0.4012 - val_loss: 0.4873 - val_accuracy: 0.2660\n",
      "Epoch 14/20\n",
      "192/192 [==============================] - 556s 3s/step - loss: 0.3229 - accuracy: 0.4253 - val_loss: 0.4940 - val_accuracy: 0.2684\n",
      "Epoch 15/20\n",
      "192/192 [==============================] - 557s 3s/step - loss: 0.3111 - accuracy: 0.4423 - val_loss: 0.5180 - val_accuracy: 0.2515\n",
      "Epoch 16/20\n",
      "192/192 [==============================] - 558s 3s/step - loss: 0.2985 - accuracy: 0.4570 - val_loss: 0.5213 - val_accuracy: 0.2484\n",
      "Epoch 17/20\n",
      "192/192 [==============================] - 557s 3s/step - loss: 0.2880 - accuracy: 0.4720 - val_loss: 0.5819 - val_accuracy: 0.2650\n",
      "Epoch 18/20\n",
      "192/192 [==============================] - 552s 3s/step - loss: 0.2760 - accuracy: 0.4824 - val_loss: 0.5739 - val_accuracy: 0.2501\n",
      "Epoch 19/20\n",
      "192/192 [==============================] - 552s 3s/step - loss: 0.2678 - accuracy: 0.4948 - val_loss: 0.6069 - val_accuracy: 0.2374\n",
      "Epoch 20/20\n",
      "192/192 [==============================] - 554s 3s/step - loss: 0.2565 - accuracy: 0.5022 - val_loss: 0.6359 - val_accuracy: 0.2326\n"
     ]
    }
   ],
   "source": [
    "batch_size = 128\n",
    "epochs = 20\n",
    "model_resnet50_v2_1.compile(optimizer=Adam(lr=0.001),loss='binary_crossentropy',metrics=['accuracy'])\n",
    "history = model_resnet50_v2_1.fit(X_train, y_train, batch_size=batch_size, epochs=epochs, verbose=1, validation_data=(X_validation,y_validation) )"
   ]
  },
  {
   "cell_type": "code",
   "execution_count": 293,
   "metadata": {},
   "outputs": [
    {
     "data": {
      "image/png": "[encoded data removed]",
      "text/plain": [
       "<Figure size 720x288 with 2 Axes>"
      ]
     },
     "metadata": {
      "needs_background": "light"
     },
     "output_type": "display_data"
    }
   ],
   "source": [
    "plt.figure(figsize=(10, 4)) \n",
    "\n",
    "plt.subplot(1, 2, 1)\n",
    "plt.title('Loss')\n",
    "plt.plot(np.arange(0, epochs), history.history['loss'], label='train')\n",
    "plt.plot(np.arange(0, epochs), history.history['val_loss'], label='validation')\n",
    "plt.legend(loc='best')\n",
    "\n",
    "\n",
    "plt.subplot(1, 2, 2)\n",
    "plt.title('Accuracy')\n",
    "plt.plot(np.arange(0, epochs), history.history['accuracy'], label='train')\n",
    "plt.plot(np.arange(0, epochs), history.history['val_accuracy'], label='validation')\n",
    "plt.legend(loc='best')\n",
    "\n",
    "plt.show()"
   ]
  },
  {
   "cell_type": "markdown",
   "metadata": {},
   "source": [
    "Preprilagođavanje je i dalje prisutno, ali u poređenju s prošlim modelom, model ima manju grešku na trening skupu nakon 20 epoha. "
   ]
  },
  {
   "cell_type": "markdown",
   "metadata": {},
   "source": [
    "##### Evaluacija modela"
   ]
  },
  {
   "cell_type": "code",
   "execution_count": 294,
   "metadata": {},
   "outputs": [
    {
     "name": "stdout",
     "output_type": "stream",
     "text": [
      "164/164 [==============================] - 95s 570ms/step\n"
     ]
    }
   ],
   "source": [
    "y_predikcija_v2_1=model_resnet50_v2_1.predict(X_test)\n",
    "y_pred_v2_1=[]\n",
    "for i in y_predikcija_v2_1:\n",
    "  y_pred_v2_1.append([1 if j>=0.5 else 0 for j in i ])\n",
    "y_pred_v2_1 = np.array(y_pred_v2_1)"
   ]
  },
  {
   "cell_type": "code",
   "execution_count": 295,
   "metadata": {},
   "outputs": [
    {
     "data": {
      "text/plain": [
       "array([[[3496,  258],\n",
       "        [1229,  261]],\n",
       "\n",
       "       [[4370,   61],\n",
       "        [ 774,   39]],\n",
       "\n",
       "       [[4044,  410],\n",
       "        [ 375,  415]],\n",
       "\n",
       "       [[3004,  657],\n",
       "        [ 965,  618]],\n",
       "\n",
       "       [[4317,  135],\n",
       "        [ 724,   68]],\n",
       "\n",
       "       [[2630,  737],\n",
       "        [1270,  607]],\n",
       "\n",
       "       [[4678,    0],\n",
       "        [ 566,    0]],\n",
       "\n",
       "       [[3887,  393],\n",
       "        [ 724,  240]],\n",
       "\n",
       "       [[4530,   52],\n",
       "        [ 639,   23]],\n",
       "\n",
       "       [[4387,  188],\n",
       "        [ 568,  101]],\n",
       "\n",
       "       [[4710,    1],\n",
       "        [ 533,    0]],\n",
       "\n",
       "       [[4050,  198],\n",
       "        [ 888,  108]]], dtype=int64)"
      ]
     },
     "execution_count": 295,
     "metadata": {},
     "output_type": "execute_result"
    }
   ],
   "source": [
    "multilabel_confusion_matrix(y_test, y_pred_v2_1)"
   ]
  },
  {
   "cell_type": "code",
   "execution_count": 296,
   "metadata": {},
   "outputs": [
    {
     "name": "stdout",
     "output_type": "stream",
     "text": [
      "              precision    recall  f1-score   support\n",
      "\n",
      "      action       0.50      0.18      0.26      1490\n",
      "   adventure       0.39      0.05      0.09       813\n",
      "   animation       0.50      0.53      0.51       790\n",
      "      comedy       0.48      0.39      0.43      1583\n",
      "       crime       0.33      0.09      0.14       792\n",
      "       drama       0.45      0.32      0.38      1877\n",
      "     fantasy       0.00      0.00      0.00       566\n",
      "      horror       0.38      0.25      0.30       964\n",
      "     mystery       0.31      0.03      0.06       662\n",
      "     romance       0.35      0.15      0.21       669\n",
      "      sci-fi       0.00      0.00      0.00       533\n",
      "    thriller       0.35      0.11      0.17       996\n",
      "\n",
      "   micro avg       0.45      0.21      0.29     11735\n",
      "   macro avg       0.34      0.17      0.21     11735\n",
      "weighted avg       0.38      0.21      0.26     11735\n",
      " samples avg       0.34      0.22      0.25     11735\n",
      "\n"
     ]
    }
   ],
   "source": [
    "print(classification_report(y_test, y_pred_v2_1,target_names=imena_klasa))"
   ]
  },
  {
   "cell_type": "code",
   "execution_count": 311,
   "metadata": {},
   "outputs": [],
   "source": [
    "macro_f1_3=0.21"
   ]
  },
  {
   "cell_type": "code",
   "execution_count": 297,
   "metadata": {},
   "outputs": [
    {
     "data": {
      "text/plain": [
       "0.041952707856598014"
      ]
     },
     "execution_count": 297,
     "metadata": {},
     "output_type": "execute_result"
    }
   ],
   "source": [
    "acc3=accuracy_score(y_test,y_pred_v2_1)\n",
    "acc3"
   ]
  },
  {
   "cell_type": "code",
   "execution_count": 298,
   "metadata": {},
   "outputs": [
    {
     "data": {
      "text/plain": [
       "0.19617658276125097"
      ]
     },
     "execution_count": 298,
     "metadata": {},
     "output_type": "execute_result"
    }
   ],
   "source": [
    "hamming3=hamming_loss(y_test,y_pred_v2_1)\n",
    "hamming3"
   ]
  },
  {
   "cell_type": "code",
   "execution_count": 332,
   "metadata": {},
   "outputs": [],
   "source": [
    "model_resnet50_v2_1.save('model_resnet50_v2_1.h5')"
   ]
  },
  {
   "cell_type": "markdown",
   "metadata": {},
   "source": [
    "#### Model 4"
   ]
  },
  {
   "cell_type": "markdown",
   "metadata": {},
   "source": [
    "Ovaj model se od prethodnog razlikuje u vrednosti parametra learning rate. Ovu vrednost smo smanjili na 0.0005 kako bismo ispitali da li ona ima neki pozitivni uticaj na rezultate modela."
   ]
  },
  {
   "cell_type": "code",
   "execution_count": 299,
   "metadata": {},
   "outputs": [
    {
     "name": "stdout",
     "output_type": "stream",
     "text": [
      "Model: \"sequential_9\"\n",
      "_________________________________________________________________\n",
      " Layer (type)                Output Shape              Param #   \n",
      "=================================================================\n",
      " resnet50 (Functional)       (None, 4, 4, 2048)        23587712  \n",
      "                                                                 \n",
      " flatten_8 (Flatten)         (None, 32768)             0         \n",
      "                                                                 \n",
      " dense_16 (Dense)            (None, 512)               16777728  \n",
      "                                                                 \n",
      " dropout_8 (Dropout)         (None, 512)               0         \n",
      "                                                                 \n",
      " dense_17 (Dense)            (None, 12)                6156      \n",
      "                                                                 \n",
      "=================================================================\n",
      "Total params: 40,371,596\n",
      "Trainable params: 21,249,548\n",
      "Non-trainable params: 19,122,048\n",
      "_________________________________________________________________\n"
     ]
    }
   ],
   "source": [
    "model_resnet50_v2_2= Sequential()\n",
    "model_resnet50_v2_2.add(pretrained_model_v2_1)\n",
    "model_resnet50_v2_2.add(Flatten())\n",
    "model_resnet50_v2_2.add(Dense(512, activation='relu'))\n",
    "model_resnet50_v2_2.add(Dropout(0.6))\n",
    "model_resnet50_v2_2.add(Dense(12, activation='sigmoid'))\n",
    "model_resnet50_v2_2.summary()"
   ]
  },
  {
   "cell_type": "code",
   "execution_count": 300,
   "metadata": {},
   "outputs": [
    {
     "name": "stdout",
     "output_type": "stream",
     "text": [
      "Epoch 1/20\n",
      "192/192 [==============================] - 562s 3s/step - loss: 0.3051 - accuracy: 0.4415 - val_loss: 0.5227 - val_accuracy: 0.2740\n",
      "Epoch 2/20\n",
      "192/192 [==============================] - 556s 3s/step - loss: 0.2049 - accuracy: 0.5288 - val_loss: 0.5979 - val_accuracy: 0.2631\n",
      "Epoch 3/20\n",
      "192/192 [==============================] - 556s 3s/step - loss: 0.1605 - accuracy: 0.5493 - val_loss: 0.6995 - val_accuracy: 0.2372\n",
      "Epoch 4/20\n",
      "192/192 [==============================] - 557s 3s/step - loss: 0.1291 - accuracy: 0.5512 - val_loss: 0.7794 - val_accuracy: 0.2425\n",
      "Epoch 5/20\n",
      "192/192 [==============================] - 563s 3s/step - loss: 0.1046 - accuracy: 0.5499 - val_loss: 0.8602 - val_accuracy: 0.2309\n",
      "Epoch 6/20\n",
      "192/192 [==============================] - 556s 3s/step - loss: 0.0850 - accuracy: 0.5498 - val_loss: 0.9123 - val_accuracy: 0.2214\n",
      "Epoch 7/20\n",
      "192/192 [==============================] - 564s 3s/step - loss: 0.0715 - accuracy: 0.5512 - val_loss: 1.0048 - val_accuracy: 0.2231\n",
      "Epoch 8/20\n",
      "192/192 [==============================] - 557s 3s/step - loss: 0.0622 - accuracy: 0.5507 - val_loss: 1.0364 - val_accuracy: 0.2242\n",
      "Epoch 9/20\n",
      "192/192 [==============================] - 554s 3s/step - loss: 0.0576 - accuracy: 0.5511 - val_loss: 1.1304 - val_accuracy: 0.2116\n",
      "Epoch 10/20\n",
      "192/192 [==============================] - 554s 3s/step - loss: 0.0486 - accuracy: 0.5497 - val_loss: 1.1073 - val_accuracy: 0.2189\n",
      "Epoch 11/20\n",
      "192/192 [==============================] - 553s 3s/step - loss: 0.0443 - accuracy: 0.5486 - val_loss: 1.2541 - val_accuracy: 0.2284\n",
      "Epoch 12/20\n",
      "192/192 [==============================] - 554s 3s/step - loss: 0.0422 - accuracy: 0.5505 - val_loss: 1.2056 - val_accuracy: 0.2046\n",
      "Epoch 13/20\n",
      "192/192 [==============================] - 553s 3s/step - loss: 0.0388 - accuracy: 0.5594 - val_loss: 1.2354 - val_accuracy: 0.2210\n",
      "Epoch 14/20\n",
      "192/192 [==============================] - 553s 3s/step - loss: 0.0356 - accuracy: 0.5570 - val_loss: 1.2960 - val_accuracy: 0.2271\n",
      "Epoch 15/20\n",
      "192/192 [==============================] - 552s 3s/step - loss: 0.0334 - accuracy: 0.5547 - val_loss: 1.2628 - val_accuracy: 0.2204\n",
      "Epoch 16/20\n",
      "192/192 [==============================] - 553s 3s/step - loss: 0.0329 - accuracy: 0.5556 - val_loss: 1.2887 - val_accuracy: 0.2137\n",
      "Epoch 17/20\n",
      "192/192 [==============================] - 553s 3s/step - loss: 0.0302 - accuracy: 0.5593 - val_loss: 1.3954 - val_accuracy: 0.2282\n",
      "Epoch 18/20\n",
      "192/192 [==============================] - 554s 3s/step - loss: 0.0296 - accuracy: 0.5649 - val_loss: 1.3682 - val_accuracy: 0.2217\n",
      "Epoch 19/20\n",
      "192/192 [==============================] - 552s 3s/step - loss: 0.0300 - accuracy: 0.5584 - val_loss: 1.4035 - val_accuracy: 0.2183\n",
      "Epoch 20/20\n",
      "192/192 [==============================] - 552s 3s/step - loss: 0.0300 - accuracy: 0.5606 - val_loss: 1.3857 - val_accuracy: 0.2246\n"
     ]
    }
   ],
   "source": [
    "batch_size = 128\n",
    "epochs = 20\n",
    "model_resnet50_v2_2.compile(optimizer=Adam(lr=0.0005),loss='binary_crossentropy',metrics=['accuracy'])\n",
    "history = model_resnet50_v2_2.fit(X_train, y_train, batch_size=batch_size, epochs=epochs, verbose=1, validation_data=(X_validation,y_validation) )"
   ]
  },
  {
   "cell_type": "code",
   "execution_count": 301,
   "metadata": {},
   "outputs": [
    {
     "data": {
      "image/png": "[encoded data removed]",
      "text/plain": [
       "<Figure size 720x288 with 2 Axes>"
      ]
     },
     "metadata": {
      "needs_background": "light"
     },
     "output_type": "display_data"
    }
   ],
   "source": [
    "plt.figure(figsize=(10, 4)) \n",
    "\n",
    "plt.subplot(1, 2, 1)\n",
    "plt.title('Loss')\n",
    "plt.plot(np.arange(0, epochs), history.history['loss'], label='train')\n",
    "plt.plot(np.arange(0, epochs), history.history['val_loss'], label='validation')\n",
    "plt.legend(loc='best')\n",
    "\n",
    "\n",
    "plt.subplot(1, 2, 2)\n",
    "plt.title('Accuracy')\n",
    "plt.plot(np.arange(0, epochs), history.history['accuracy'], label='train')\n",
    "plt.plot(np.arange(0, epochs), history.history['val_accuracy'], label='validation')\n",
    "plt.legend(loc='best')\n",
    "\n",
    "plt.show()"
   ]
  },
  {
   "cell_type": "markdown",
   "metadata": {},
   "source": [
    "##### Evaluacija modela"
   ]
  },
  {
   "cell_type": "code",
   "execution_count": 302,
   "metadata": {},
   "outputs": [
    {
     "name": "stdout",
     "output_type": "stream",
     "text": [
      "164/164 [==============================] - 90s 544ms/step\n"
     ]
    }
   ],
   "source": [
    "y_predikcija_v2_2=model_resnet50_v2_2.predict(X_test)"
   ]
  },
  {
   "cell_type": "code",
   "execution_count": 303,
   "metadata": {},
   "outputs": [],
   "source": [
    "y_pred_v2_2=[]"
   ]
  },
  {
   "cell_type": "code",
   "execution_count": 304,
   "metadata": {},
   "outputs": [],
   "source": [
    "for i in y_predikcija_v2_2:\n",
    "  y_pred_v2_2.append([1 if j>=0.5 else 0 for j in i ])"
   ]
  },
  {
   "cell_type": "code",
   "execution_count": 305,
   "metadata": {},
   "outputs": [],
   "source": [
    "y_pred_v2_2 = np.array(y_pred_v2_2)"
   ]
  },
  {
   "cell_type": "code",
   "execution_count": 306,
   "metadata": {},
   "outputs": [
    {
     "data": {
      "text/plain": [
       "array([[[3070,  684],\n",
       "        [ 953,  537]],\n",
       "\n",
       "       [[4148,  283],\n",
       "        [ 691,  122]],\n",
       "\n",
       "       [[4151,  303],\n",
       "        [ 433,  357]],\n",
       "\n",
       "       [[2843,  818],\n",
       "        [ 854,  729]],\n",
       "\n",
       "       [[4010,  442],\n",
       "        [ 644,  148]],\n",
       "\n",
       "       [[2234, 1133],\n",
       "        [1028,  849]],\n",
       "\n",
       "       [[4466,  212],\n",
       "        [ 531,   35]],\n",
       "\n",
       "       [[3830,  450],\n",
       "        [ 725,  239]],\n",
       "\n",
       "       [[4323,  259],\n",
       "        [ 594,   68]],\n",
       "\n",
       "       [[4397,  178],\n",
       "        [ 570,   99]],\n",
       "\n",
       "       [[4486,  225],\n",
       "        [ 480,   53]],\n",
       "\n",
       "       [[3727,  521],\n",
       "        [ 781,  215]]], dtype=int64)"
      ]
     },
     "execution_count": 306,
     "metadata": {},
     "output_type": "execute_result"
    }
   ],
   "source": [
    "multilabel_confusion_matrix(y_test, y_pred_v2_2)"
   ]
  },
  {
   "cell_type": "markdown",
   "metadata": {},
   "source": [
    "U odnosu na prethodne modele primećujemo povećanje broja TP i FP vrednosti. I dalje te vrednosti nisu velike i model ne obavlja dobro zadatak za koji ga ubučavamo."
   ]
  },
  {
   "cell_type": "code",
   "execution_count": 307,
   "metadata": {},
   "outputs": [
    {
     "name": "stdout",
     "output_type": "stream",
     "text": [
      "              precision    recall  f1-score   support\n",
      "\n",
      "      action       0.44      0.36      0.40      1490\n",
      "   adventure       0.30      0.15      0.20       813\n",
      "   animation       0.54      0.45      0.49       790\n",
      "      comedy       0.47      0.46      0.47      1583\n",
      "       crime       0.25      0.19      0.21       792\n",
      "       drama       0.43      0.45      0.44      1877\n",
      "     fantasy       0.14      0.06      0.09       566\n",
      "      horror       0.35      0.25      0.29       964\n",
      "     mystery       0.21      0.10      0.14       662\n",
      "     romance       0.36      0.15      0.21       669\n",
      "      sci-fi       0.19      0.10      0.13       533\n",
      "    thriller       0.29      0.22      0.25       996\n",
      "\n",
      "   micro avg       0.39      0.29      0.33     11735\n",
      "   macro avg       0.33      0.24      0.28     11735\n",
      "weighted avg       0.36      0.29      0.32     11735\n",
      " samples avg       0.36      0.30      0.30     11735\n",
      "\n"
     ]
    }
   ],
   "source": [
    "print(classification_report(y_test, y_pred_v2_2,target_names=imena_klasa))"
   ]
  },
  {
   "cell_type": "code",
   "execution_count": 310,
   "metadata": {},
   "outputs": [],
   "source": [
    "macro_f1_4=0.28"
   ]
  },
  {
   "cell_type": "code",
   "execution_count": 308,
   "metadata": {},
   "outputs": [
    {
     "data": {
      "text/plain": [
       "0.03985507246376811"
      ]
     },
     "execution_count": 308,
     "metadata": {},
     "output_type": "execute_result"
    }
   ],
   "source": [
    "acc4=accuracy_score(y_test,y_pred_v2_2)\n",
    "acc4"
   ]
  },
  {
   "cell_type": "code",
   "execution_count": 309,
   "metadata": {},
   "outputs": [
    {
     "data": {
      "text/plain": [
       "0.21917111619628782"
      ]
     },
     "execution_count": 309,
     "metadata": {},
     "output_type": "execute_result"
    }
   ],
   "source": [
    "hamming4=hamming_loss(y_test, y_pred_v2_2)\n",
    "hamming4"
   ]
  },
  {
   "cell_type": "code",
   "execution_count": 333,
   "metadata": {},
   "outputs": [],
   "source": [
    "model_resnet50_v2_2.save('model_resnet50_v2_2.h5')"
   ]
  },
  {
   "cell_type": "markdown",
   "metadata": {},
   "source": [
    "#### Model 5"
   ]
  },
  {
   "cell_type": "markdown",
   "metadata": {},
   "source": [
    "Ispitaćemo još rad modela kod kog ćemo istrenirati sve slojeve ugrađenje ResNet mreže. Ostali parametri ostaju podešeni isto kao i u prethodnom modelu."
   ]
  },
  {
   "cell_type": "code",
   "execution_count": 190,
   "metadata": {},
   "outputs": [
    {
     "name": "stdout",
     "output_type": "stream",
     "text": [
      "Model: \"sequential_7\"\n",
      "_________________________________________________________________\n",
      " Layer (type)                Output Shape              Param #   \n",
      "=================================================================\n",
      " resnet50 (Functional)       (None, 4, 4, 2048)        23587712  \n",
      "                                                                 \n",
      " flatten_6 (Flatten)         (None, 32768)             0         \n",
      "                                                                 \n",
      " dense_12 (Dense)            (None, 512)               16777728  \n",
      "                                                                 \n",
      " dropout_6 (Dropout)         (None, 512)               0         \n",
      "                                                                 \n",
      " dense_13 (Dense)            (None, 12)                6156      \n",
      "                                                                 \n",
      "=================================================================\n",
      "Total params: 40,371,596\n",
      "Trainable params: 40,318,476\n",
      "Non-trainable params: 53,120\n",
      "_________________________________________________________________\n"
     ]
    }
   ],
   "source": [
    "model_resnet50_v2_3= Sequential()\n",
    "pretrained_model_v2_3=ResNet50(weights='imagenet',include_top=False,input_shape=velicina_ulaza, classes= broj_klasa)\n",
    "for i in range(len(pretrained_model_v2_3.layers)):\n",
    "    pretrained_model_v2_3.layers[i].trainable = True\n",
    "model_resnet50_v2_3.add(pretrained_model_v2_3)\n",
    "model_resnet50_v2_3.add(Flatten())\n",
    "model_resnet50_v2_3.add(Dense(512, activation='relu'))\n",
    "model_resnet50_v2_3.add(Dropout(0.6))\n",
    "model_resnet50_v2_3.add(Dense(12, activation='sigmoid'))\n",
    "model_resnet50_v2_3.summary()"
   ]
  },
  {
   "cell_type": "code",
   "execution_count": 191,
   "metadata": {},
   "outputs": [
    {
     "name": "stdout",
     "output_type": "stream",
     "text": [
      "Epoch 1/20\n",
      "192/192 [==============================] - 1797s 9s/step - loss: 0.4951 - accuracy: 0.2609 - val_loss: 0.5787 - val_accuracy: 0.1497\n",
      "Epoch 2/20\n",
      "192/192 [==============================] - 1773s 9s/step - loss: 0.4137 - accuracy: 0.3244 - val_loss: 0.4926 - val_accuracy: 0.1195\n",
      "Epoch 3/20\n",
      "192/192 [==============================] - 1774s 9s/step - loss: 0.3967 - accuracy: 0.3503 - val_loss: 0.4581 - val_accuracy: 0.1727\n",
      "Epoch 4/20\n",
      "192/192 [==============================] - 1769s 9s/step - loss: 0.3735 - accuracy: 0.3741 - val_loss: 0.4374 - val_accuracy: 0.2540\n",
      "Epoch 5/20\n",
      "192/192 [==============================] - 1774s 9s/step - loss: 0.3550 - accuracy: 0.3893 - val_loss: 0.6542 - val_accuracy: 0.1500\n",
      "Epoch 6/20\n",
      "192/192 [==============================] - 1770s 9s/step - loss: 0.3547 - accuracy: 0.3907 - val_loss: 0.4340 - val_accuracy: 0.2915\n",
      "Epoch 7/20\n",
      "192/192 [==============================] - 1771s 9s/step - loss: 0.3421 - accuracy: 0.4016 - val_loss: 0.4364 - val_accuracy: 0.2892\n",
      "Epoch 8/20\n",
      "192/192 [==============================] - 1771s 9s/step - loss: 0.3018 - accuracy: 0.4393 - val_loss: 0.4779 - val_accuracy: 0.2683\n",
      "Epoch 9/20\n",
      "192/192 [==============================] - 1774s 9s/step - loss: 0.2740 - accuracy: 0.4605 - val_loss: 0.4453 - val_accuracy: 0.2967\n",
      "Epoch 10/20\n",
      "192/192 [==============================] - 1773s 9s/step - loss: 0.2402 - accuracy: 0.4887 - val_loss: 0.4549 - val_accuracy: 0.2965\n",
      "Epoch 11/20\n",
      "192/192 [==============================] - 1777s 9s/step - loss: 0.2035 - accuracy: 0.5102 - val_loss: 0.5100 - val_accuracy: 0.2742\n",
      "Epoch 12/20\n",
      "192/192 [==============================] - 1778s 9s/step - loss: 0.1844 - accuracy: 0.5169 - val_loss: 0.5498 - val_accuracy: 0.3047\n",
      "Epoch 13/20\n",
      "192/192 [==============================] - 1772s 9s/step - loss: 0.1661 - accuracy: 0.5163 - val_loss: 0.5277 - val_accuracy: 0.2997\n",
      "Epoch 14/20\n",
      "192/192 [==============================] - 1772s 9s/step - loss: 0.1548 - accuracy: 0.5191 - val_loss: 0.5457 - val_accuracy: 0.2643\n",
      "Epoch 15/20\n",
      "192/192 [==============================] - 1772s 9s/step - loss: 0.1487 - accuracy: 0.5247 - val_loss: 0.6590 - val_accuracy: 0.1703\n",
      "Epoch 16/20\n",
      "192/192 [==============================] - 1775s 9s/step - loss: 0.1575 - accuracy: 0.5180 - val_loss: 0.5641 - val_accuracy: 0.2801\n",
      "Epoch 17/20\n",
      "192/192 [==============================] - 1771s 9s/step - loss: 0.1225 - accuracy: 0.5298 - val_loss: 0.6231 - val_accuracy: 0.2959\n",
      "Epoch 18/20\n",
      "192/192 [==============================] - 1774s 9s/step - loss: 0.0970 - accuracy: 0.5431 - val_loss: 0.6354 - val_accuracy: 0.2806\n",
      "Epoch 19/20\n",
      "192/192 [==============================] - 1772s 9s/step - loss: 0.1038 - accuracy: 0.5396 - val_loss: 0.6936 - val_accuracy: 0.2984\n",
      "Epoch 20/20\n",
      "192/192 [==============================] - 1778s 9s/step - loss: 0.0927 - accuracy: 0.5493 - val_loss: 0.7259 - val_accuracy: 0.2936\n"
     ]
    }
   ],
   "source": [
    "batch_size = 128\n",
    "epochs = 20\n",
    "model_resnet50_v2_3.compile(optimizer=Adam(lr=0.0005),loss='binary_crossentropy',metrics=['accuracy'])\n",
    "history = model_resnet50_v2_3.fit(X_train, y_train, batch_size=batch_size, epochs=epochs, verbose=1, validation_data=(X_validation,y_validation) )"
   ]
  },
  {
   "cell_type": "code",
   "execution_count": 192,
   "metadata": {},
   "outputs": [
    {
     "data": {
      "image/png": "[encoded data removed]",
      "text/plain": [
       "<Figure size 720x288 with 2 Axes>"
      ]
     },
     "metadata": {
      "needs_background": "light"
     },
     "output_type": "display_data"
    }
   ],
   "source": [
    "plt.figure(figsize=(10, 4)) \n",
    "\n",
    "plt.subplot(1, 2, 1)\n",
    "plt.title('Loss')\n",
    "plt.plot(np.arange(0, epochs), history.history['loss'], label='train')\n",
    "plt.plot(np.arange(0, epochs), history.history['val_loss'], label='validation')\n",
    "plt.legend(loc='best')\n",
    "\n",
    "\n",
    "plt.subplot(1, 2, 2)\n",
    "plt.title('Accuracy')\n",
    "plt.plot(np.arange(0, epochs), history.history['accuracy'], label='train')\n",
    "plt.plot(np.arange(0, epochs), history.history['val_accuracy'], label='validation')\n",
    "plt.legend(loc='best')\n",
    "\n",
    "plt.show()"
   ]
  },
  {
   "cell_type": "markdown",
   "metadata": {},
   "source": [
    "##### Evaluacija modela"
   ]
  },
  {
   "cell_type": "code",
   "execution_count": 197,
   "metadata": {},
   "outputs": [
    {
     "name": "stdout",
     "output_type": "stream",
     "text": [
      "164/164 [==============================] - 94s 565ms/step\n"
     ]
    }
   ],
   "source": [
    "y_predikcija_v2_3=model_resnet50_v2_3.predict(X_test)"
   ]
  },
  {
   "cell_type": "code",
   "execution_count": 210,
   "metadata": {},
   "outputs": [],
   "source": [
    "y_pred_v2_3=[]"
   ]
  },
  {
   "cell_type": "code",
   "execution_count": 211,
   "metadata": {},
   "outputs": [],
   "source": [
    "for i in y_predikcija_v2_3:\n",
    "  y_pred_v2_3.append([1 if j>=0.5 else 0 for j in i ])"
   ]
  },
  {
   "cell_type": "code",
   "execution_count": 212,
   "metadata": {},
   "outputs": [
    {
     "data": {
      "text/plain": [
       "array([[[3094,  660],\n",
       "        [ 851,  639]],\n",
       "\n",
       "       [[4281,  150],\n",
       "        [ 682,  131]],\n",
       "\n",
       "       [[4152,  302],\n",
       "        [ 239,  551]],\n",
       "\n",
       "       [[2766,  895],\n",
       "        [ 711,  872]],\n",
       "\n",
       "       [[4189,  263],\n",
       "        [ 682,  110]],\n",
       "\n",
       "       [[2748,  619],\n",
       "        [1276,  601]],\n",
       "\n",
       "       [[4605,   73],\n",
       "        [ 550,   16]],\n",
       "\n",
       "       [[4117,  163],\n",
       "        [ 796,  168]],\n",
       "\n",
       "       [[4507,   75],\n",
       "        [ 636,   26]],\n",
       "\n",
       "       [[4464,  111],\n",
       "        [ 554,  115]],\n",
       "\n",
       "       [[4612,   99],\n",
       "        [ 475,   58]],\n",
       "\n",
       "       [[4079,  169],\n",
       "        [ 885,  111]]], dtype=int64)"
      ]
     },
     "execution_count": 212,
     "metadata": {},
     "output_type": "execute_result"
    }
   ],
   "source": [
    "multilabel_confusion_matrix(y_test, y_pred_v2_3)"
   ]
  },
  {
   "cell_type": "code",
   "execution_count": 213,
   "metadata": {},
   "outputs": [
    {
     "name": "stdout",
     "output_type": "stream",
     "text": [
      "              precision    recall  f1-score   support\n",
      "\n",
      "      action       0.49      0.43      0.46      1490\n",
      "   adventure       0.47      0.16      0.24       813\n",
      "   animation       0.65      0.70      0.67       790\n",
      "      comedy       0.49      0.55      0.52      1583\n",
      "       crime       0.29      0.14      0.19       792\n",
      "       drama       0.49      0.32      0.39      1877\n",
      "     fantasy       0.18      0.03      0.05       566\n",
      "      horror       0.51      0.17      0.26       964\n",
      "     mystery       0.26      0.04      0.07       662\n",
      "     romance       0.51      0.17      0.26       669\n",
      "      sci-fi       0.37      0.11      0.17       533\n",
      "    thriller       0.40      0.11      0.17       996\n",
      "\n",
      "   micro avg       0.49      0.29      0.36     11735\n",
      "   macro avg       0.43      0.24      0.29     11735\n",
      "weighted avg       0.45      0.29      0.33     11735\n",
      " samples avg       0.41      0.30      0.32     11735\n",
      "\n"
     ]
    }
   ],
   "source": [
    "print(classification_report(y_test, y_pred_v2_3,target_names=imena_klasa))"
   ]
  },
  {
   "cell_type": "code",
   "execution_count": 235,
   "metadata": {},
   "outputs": [],
   "source": [
    "macro_f1_5=0.29"
   ]
  },
  {
   "cell_type": "code",
   "execution_count": 216,
   "metadata": {},
   "outputs": [
    {
     "data": {
      "text/plain": [
       "0.05682684973302822"
      ]
     },
     "execution_count": 216,
     "metadata": {},
     "output_type": "execute_result"
    }
   ],
   "source": [
    "acc5=accuracy_score(y_test,y_pred_v2_3)\n",
    "acc5"
   ]
  },
  {
   "cell_type": "code",
   "execution_count": 217,
   "metadata": {},
   "outputs": [
    {
     "data": {
      "text/plain": [
       "0.18935926773455378"
      ]
     },
     "execution_count": 217,
     "metadata": {},
     "output_type": "execute_result"
    }
   ],
   "source": [
    "hamming5=hamming_loss(y_test,y_pred_v2_3)\n",
    "hamming5"
   ]
  },
  {
   "cell_type": "code",
   "execution_count": 334,
   "metadata": {},
   "outputs": [],
   "source": [
    "model_resnet50_v2_3.save('model_resnet50_v2_3.h5')"
   ]
  },
  {
   "cell_type": "markdown",
   "metadata": {},
   "source": [
    "### Prikaz rezultata i poređenje modela"
   ]
  },
  {
   "cell_type": "markdown",
   "metadata": {},
   "source": [
    "Posmatraćemo naših pet modela i njihove vrednosti za accuracy score, hamming loss i macro f1 score. F1 score gledamo jer obuhvata i preciznost i odziv pa time daje dobar uvid u to koliko je model dobar."
   ]
  },
  {
   "cell_type": "code",
   "execution_count": 324,
   "metadata": {},
   "outputs": [],
   "source": [
    "podaci_za_tabelu=[['Acc',0.0292, 0.0086, 0.0420, 0.0399, 0.0568],\n",
    "                 ['Hamming loss',0.1868, 0.1828, 0.1962, 0.2192, 0.1894],\n",
    "                 ['Macro F1 score',0.17,0.07,0.21,0.28,0.29]]"
   ]
  },
  {
   "cell_type": "code",
   "execution_count": 325,
   "metadata": {},
   "outputs": [],
   "source": [
    "kolone=['Model 1','Model 2','Model 3','Model 4','Model 5']"
   ]
  },
  {
   "cell_type": "code",
   "execution_count": 326,
   "metadata": {},
   "outputs": [
    {
     "name": "stdout",
     "output_type": "stream",
     "text": [
      "╒════════════════╤═══════════╤═══════════╤═══════════╤═══════════╤═══════════╕\n",
      "│                │   Model 1 │   Model 2 │   Model 3 │   Model 4 │   Model 5 │\n",
      "╞════════════════╪═══════════╪═══════════╪═══════════╪═══════════╪═══════════╡\n",
      "│ Acc            │    0.0292 │    0.0086 │    0.042  │    0.0399 │    0.0568 │\n",
      "├────────────────┼───────────┼───────────┼───────────┼───────────┼───────────┤\n",
      "│ Hamming loss   │    0.1868 │    0.1828 │    0.1962 │    0.2192 │    0.1894 │\n",
      "├────────────────┼───────────┼───────────┼───────────┼───────────┼───────────┤\n",
      "│ Macro F1 score │    0.17   │    0.07   │    0.21   │    0.28   │    0.29   │\n",
      "╘════════════════╧═══════════╧═══════════╧═══════════╧═══════════╧═══════════╛\n"
     ]
    }
   ],
   "source": [
    "print(tabulate(podaci_za_tabelu, headers=kolone, tablefmt=\"fancy_grid\"))"
   ]
  },
  {
   "cell_type": "code",
   "execution_count": 327,
   "metadata": {},
   "outputs": [
    {
     "data": {
      "image/png": "[encoded data removed]",
      "text/plain": [
       "<Figure size 1152x288 with 3 Axes>"
      ]
     },
     "metadata": {
      "needs_background": "light"
     },
     "output_type": "display_data"
    }
   ],
   "source": [
    "plt.figure(figsize=(16, 4)) \n",
    "\n",
    "plt.subplot(1, 3, 1)\n",
    "plt.title('Vrednosti za hamming loss kod različitih modela')\n",
    "plt.bar(['Model1','Model2','Model3','Model4','Model5'],np.array([hamming1,hamming2,hamming3,hamming4,hamming5]),color='darkcyan')\n",
    "plt.ylabel('Hamming loss')\n",
    "\n",
    "plt.subplot(1, 3, 2)\n",
    "plt.title('Stupci tačnosti različitih modela')\n",
    "plt.bar(['Model1','Model2','Model3','Model4','Model5'],np.array([acc1,acc2,acc3,acc4,acc5]))\n",
    "plt.ylabel('Tacnost')\n",
    "\n",
    "plt.subplot(1, 3, 3)\n",
    "plt.bar(['Model1','Model2','Model3','Model4','Model5'],np.array([macro_f1_1,macro_f1_2,macro_f1_3,macro_f1_4,macro_f1_5]),color='mediumturquoise')\n",
    "plt.title('Macro F1 score različitih modela')\n",
    "plt.ylabel('F1 score')\n",
    "\n",
    "plt.show()"
   ]
  },
  {
   "cell_type": "markdown",
   "metadata": {},
   "source": [
    "Uz prikazane grafike iznad možemo lakše posmatrati rezultate i izneti neke zaključke."
   ]
  },
  {
   "cell_type": "markdown",
   "metadata": {},
   "source": [
    "Radi lakšeg pregleda podsetimo se arhitekture svakog od modela.\n",
    "<br> Model1- korišćene težine već trenirane ResNet50 mreže, gusti sloj od 512 čvorova, dropout(0.5), gusti sloj sa 12 čvorova i lr 0.001\n",
    "<br> Model2- korišćene težine već trenirane ResNet50 mreže, gusti sloj od 512 čvorova, dropout(0.7), gusti sloj sa 12 čvorova i lr 0.001\n",
    "<br> Model3- trenirani parametri poslednjeg bloka ResNet50 mreže, gusti sloj od 512 čvorova, dropout(0.6), gusti sloj sa 12 čvorova i lr 0.001\n",
    "<br> Model4- trenirani parametri poslednjeg bloka ResNet50 mreže, gusti sloj od 512 čvorova, dropout(0.6), gusti sloj sa 12 čvorova i lr 0.0005\n",
    "<br> Model5- trenirane sve težine ResNet50 mreže, gusti sloj od 512 čvorova, dropout(0.6), gusti sloj sa 12 čvorova i lr 0.0005"
   ]
  },
  {
   "cell_type": "markdown",
   "metadata": {},
   "source": [
    "Vrednost hamming loss je slična za sve modele, međutim najniža je za Model2. Razlog tome je što model2 skoro da ne daje nikakvo predviđanje. Pošto imamo veliki broj instanci i veliki broj klasa ako model svuda predviđa nule grešiće samo na mestima gde bi trebalo da su jedinice. Iz tog razloga se ne možemo osloniti samo na jednu meru evaluacija. Iako je model2 najbolji gledajuci hamming loss, posmatrajući širu sliku, odnosno tačnost i f1 score, zaključujemo zapravo da je model2 najgori. S obzirom da se on od modela1 razlikuje samo u povećanju dropout parametra vidimo da je ovo povećanje negativno uticalo na performanse modela. Razlog lošijeg ponašanja je verovatno to što je gašenjem određenih čvorova ispred sloja pomoću kog donosimo odluke prouzrokovalo manjak informacija što je otežalo modelu da donese odluku."
   ]
  },
  {
   "cell_type": "markdown",
   "metadata": {},
   "source": [
    "Što se tiče ostalih modela, ne može se reći da je ijedan dobar. Najbolje se pokazao model5 jer ima niži hamming loss, a više vrednosti za accuracy score i macro f1 score od ostalih. Ipak, ovaj model takođe ima izraženo preprilagođavanje i nije najbolji izbor za rešavanje ovog zadatka. Razlog zbog kog nijedan od ovih modela nije dobar je verovatno prevelika dubina mreža za ovu količinu podataka. Bolji izbor za rešavanje ovog problema bi verovatno bila ResNet18 ili ResNet34 mreža, međutim kako keras.application nema mogućnost korišćenja ovih mreža one nisu obrađene u ovom radu."
   ]
  }
 ],
 "metadata": {
  "kernelspec": {
   "display_name": "Python 3",
   "language": "python",
   "name": "python3"
  },
  "language_info": {
   "codemirror_mode": {
    "name": "ipython",
    "version": 3
   },
   "file_extension": ".py",
   "mimetype": "text/x-python",
   "name": "python",
   "nbconvert_exporter": "python",
   "pygments_lexer": "ipython3",
   "version": "3.8.5"
  }
 },
 "nbformat": 4,
 "nbformat_minor": 4
}
